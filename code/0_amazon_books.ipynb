{
 "cells": [
  {
   "cell_type": "markdown",
   "metadata": {},
   "source": [
    "## Create a list of ASINs for Cookbooks"
   ]
  },
  {
   "cell_type": "code",
   "execution_count": 137,
   "metadata": {
    "ExecuteTime": {
     "end_time": "2019-11-06T23:41:02.276395Z",
     "start_time": "2019-11-06T23:39:46.201664Z"
    }
   },
   "outputs": [
    {
     "name": "stdout",
     "output_type": "stream",
     "text": [
      "Number of books with cookbook category: 44836\n"
     ]
    }
   ],
   "source": [
    "# --- Imports\n",
    "import numpy as np\n",
    "import pandas as pd\n",
    "from collections import defaultdict\n",
    "\n",
    "\n",
    "# --- Inputs: Amazon books metadata file\n",
    "amznBooks = \"../data/amzn/meta_Books.json\"\n",
    "\n",
    "# --- Outputs: Write Cookbooks metadata into this file:\n",
    "amznCookbooks = \"../data/amzn/meta_Cookbooks.json\"\n",
    "\n",
    "# --- Outputs: Write Cookbooks ASINs into this file:\n",
    "# --- ASINs will be used for counting number of reviews, descriptions, time stamp etc.\n",
    "amznCookbook_asins = \"../data/amzn/meta_Cookbooks_asins.csv\"\n",
    "\n",
    "# --- Parser for reading in the Amazon json files (can be used for both reviews and metadata)\n",
    "def parse(path):\n",
    "    g = open(path, 'r')\n",
    "    for l in g:\n",
    "        yield json.loads(l)\n",
    "        \n",
    "# --- Open files streams for the output files for writing\n",
    "fckbks = open(amznCookbooks, \"w\")\n",
    "fckbks_asins = open(amznCookbook_asins, \"w\")\n",
    "\n",
    "count = 0\n",
    "for line in parse(amznBooks):\n",
    "    if 'category' in line.keys() and 'description' in line.keys() and \"Cookbooks, Food & Wine\" in line['category']:\n",
    "        fckbks.write(json.dumps(line)+\"\\n\")\n",
    "        fckbks_asins.write(line['asin']+'\\n')\n",
    "        count += 1\n",
    "    #if count>30:\n",
    "    #    break\n",
    "\n",
    "print(f\"Number of books with cookbook category: {count}\")"
   ]
  },
  {
   "cell_type": "markdown",
   "metadata": {
    "ExecuteTime": {
     "end_time": "2019-11-07T00:13:59.317024Z",
     "start_time": "2019-11-07T00:13:59.289956Z"
    }
   },
   "source": [
    "## Create a JSON file of Cookbook Reviews from All Books Reviews"
   ]
  },
  {
   "cell_type": "code",
   "execution_count": 144,
   "metadata": {
    "ExecuteTime": {
     "end_time": "2019-11-07T00:49:01.734214Z",
     "start_time": "2019-11-07T00:45:54.047508Z"
    },
    "scrolled": true
   },
   "outputs": [
    {
     "name": "stdout",
     "output_type": "stream",
     "text": [
      "44812\n"
     ]
    }
   ],
   "source": [
    "# --- Inputs\n",
    "amzn_book_reviews = \"../data/amzn/Books_5.json\"\n",
    "amznCookbook_asins = \"../data/amzn/meta_Cookbooks_asins.csv\"\n",
    "\n",
    "# --- Outputs\n",
    "amzn_cookbook_reviews = \"../data/amzn/Cookbooks.json\"\n",
    "\n",
    "# --- Parser for reading in the Amazon json files (can be used for both reviews and metadata)\n",
    "def parse(path):\n",
    "    g = open(path, 'r')\n",
    "    for l in g:\n",
    "        yield json.loads(l)\n",
    "\n",
    "# --- Review count summaries        \n",
    "review_counts_by_book = defaultdict(int)\n",
    "review_counts_by_year = defaultdict(int)\n",
    "\n",
    "# --- Read in ASINs to extract cookbook reviews. Saved under fckbks_asins\n",
    "fckbks_asins = open(amznCookbook_asins, \"r\")\n",
    "for line in fckbks_asins:\n",
    "    review_counts_by_book[line.strip()] = 0\n",
    "fckbks_asins.close()\n",
    "cookbook_asins = review_counts_by_book.keys()\n",
    "\n",
    "# --- Create JSON file of cookbook reviews\n",
    "fckbks_reviews = open(amzn_cookbook_reviews, \"w\")\n",
    "#count = 0\n",
    "\n",
    "for line in parse(amzn_book_reviews):\n",
    "    review_keys = line.keys()\n",
    "    \n",
    "    if 'asin' in review_keys and line['asin'] in cookbook_asins:\n",
    "        fckbks_reviews.write(json.dumps(line)+'\\n')\n",
    "        review_counts_by_book[line['asin']] += 1\n",
    "        count += 1\n",
    "        assert line['reviewTime'] != None\n",
    "        review_counts_by_year[line['reviewTime'][-4:]] += 1\n",
    "    #if count>30:\n",
    "    #    break\n",
    "fckbks_reviews.close()\n",
    "\n",
    "# --- Write cookbook review counts by book\n",
    "file_to_write = open(\"../data/amzn/review_counts_by_cookbook.json\", \"w\")\n",
    "file_to_write.write(json.dumps(review_counts_by_book))\n",
    "file_to_write.close()\n",
    "\n",
    "# --- Write cookbook review counts by uyear\n",
    "file_to_write = open(\"../data/amzn/review_counts_by_year.json\", \"w\")\n",
    "file_to_write.write(json.dumps(review_counts_by_year))\n",
    "file_to_write.close()\n",
    "\n",
    "print(len(review_counts_by_book.keys()))"
   ]
  },
  {
   "cell_type": "markdown",
   "metadata": {},
   "source": [
    "## General Summaries of Cookbook Reviews"
   ]
  },
  {
   "cell_type": "code",
   "execution_count": 145,
   "metadata": {
    "ExecuteTime": {
     "end_time": "2019-11-07T00:49:06.593869Z",
     "start_time": "2019-11-07T00:49:06.343754Z"
    },
    "scrolled": false
   },
   "outputs": [
    {
     "name": "stdout",
     "output_type": "stream",
     "text": [
      "defaultdict(<class 'int'>, {'2016': 65910, '2015': 74125, '2014': 70404, '2013': 53505, '2012': 22392, '2010': 11814, '2007': 7157, '2006': 3940, '2005': 3130, '2003': 1684, '2001': 1612, '2000': 1284, '2008': 7592, '2017': 51782, '2009': 10487, '2011': 14664, '1999': 267, '2004': 2006, '2002': 1715, '1998': 119, '2018': 22906, '1997': 27})\n"
     ]
    },
    {
     "data": {
      "text/plain": [
       "<matplotlib.collections.PathCollection at 0x1161bd400>"
      ]
     },
     "execution_count": 145,
     "metadata": {},
     "output_type": "execute_result"
    },
    {
     "data": {
      "image/png": "[encoded data removed]",
      "text/plain": [
       "<Figure size 432x288 with 1 Axes>"
      ]
     },
     "metadata": {
      "needs_background": "light"
     },
     "output_type": "display_data"
    }
   ],
   "source": [
    "print(review_counts_by_year)\n",
    "import matplotlib.pyplot as plt\n",
    "%matplotlib inline\n",
    "\n",
    "xs = [int(i) for i in review_counts_by_year.keys()]\n",
    "plt.scatter(xs, review_counts_by_year.values())"
   ]
  },
  {
   "cell_type": "code",
   "execution_count": 152,
   "metadata": {
    "ExecuteTime": {
     "end_time": "2019-11-07T00:57:00.181117Z",
     "start_time": "2019-11-07T00:57:00.128230Z"
    }
   },
   "outputs": [
    {
     "name": "stdout",
     "output_type": "stream",
     "text": [
      "Number of cookbooks: [44812, 15770, 12, 29030]\n",
      "Number of cookbook reviews: [428522, 428482, 40, 0]\n",
      "Number of books with no reviews: 0.6472602739726028\n",
      "Number of reviews per book: 27.171711403007805\n",
      "Number of reviews from 'review counts by year': 428522\n"
     ]
    },
    {
     "data": {
      "text/html": [
       "<div>\n",
       "<style scoped>\n",
       "    .dataframe tbody tr th:only-of-type {\n",
       "        vertical-align: middle;\n",
       "    }\n",
       "\n",
       "    .dataframe tbody tr th {\n",
       "        vertical-align: top;\n",
       "    }\n",
       "\n",
       "    .dataframe thead th {\n",
       "        text-align: right;\n",
       "    }\n",
       "</style>\n",
       "<table border=\"1\" class=\"dataframe\">\n",
       "  <thead>\n",
       "    <tr style=\"text-align: right;\">\n",
       "      <th></th>\n",
       "      <th>Year</th>\n",
       "      <th>Count</th>\n",
       "    </tr>\n",
       "  </thead>\n",
       "  <tbody>\n",
       "    <tr>\n",
       "      <td>21</td>\n",
       "      <td>1997</td>\n",
       "      <td>27</td>\n",
       "    </tr>\n",
       "    <tr>\n",
       "      <td>19</td>\n",
       "      <td>1998</td>\n",
       "      <td>119</td>\n",
       "    </tr>\n",
       "    <tr>\n",
       "      <td>16</td>\n",
       "      <td>1999</td>\n",
       "      <td>267</td>\n",
       "    </tr>\n",
       "    <tr>\n",
       "      <td>11</td>\n",
       "      <td>2000</td>\n",
       "      <td>1284</td>\n",
       "    </tr>\n",
       "    <tr>\n",
       "      <td>10</td>\n",
       "      <td>2001</td>\n",
       "      <td>1612</td>\n",
       "    </tr>\n",
       "    <tr>\n",
       "      <td>18</td>\n",
       "      <td>2002</td>\n",
       "      <td>1715</td>\n",
       "    </tr>\n",
       "    <tr>\n",
       "      <td>9</td>\n",
       "      <td>2003</td>\n",
       "      <td>1684</td>\n",
       "    </tr>\n",
       "    <tr>\n",
       "      <td>17</td>\n",
       "      <td>2004</td>\n",
       "      <td>2006</td>\n",
       "    </tr>\n",
       "    <tr>\n",
       "      <td>8</td>\n",
       "      <td>2005</td>\n",
       "      <td>3130</td>\n",
       "    </tr>\n",
       "    <tr>\n",
       "      <td>7</td>\n",
       "      <td>2006</td>\n",
       "      <td>3940</td>\n",
       "    </tr>\n",
       "    <tr>\n",
       "      <td>6</td>\n",
       "      <td>2007</td>\n",
       "      <td>7157</td>\n",
       "    </tr>\n",
       "    <tr>\n",
       "      <td>12</td>\n",
       "      <td>2008</td>\n",
       "      <td>7592</td>\n",
       "    </tr>\n",
       "    <tr>\n",
       "      <td>14</td>\n",
       "      <td>2009</td>\n",
       "      <td>10487</td>\n",
       "    </tr>\n",
       "    <tr>\n",
       "      <td>5</td>\n",
       "      <td>2010</td>\n",
       "      <td>11814</td>\n",
       "    </tr>\n",
       "    <tr>\n",
       "      <td>15</td>\n",
       "      <td>2011</td>\n",
       "      <td>14664</td>\n",
       "    </tr>\n",
       "    <tr>\n",
       "      <td>4</td>\n",
       "      <td>2012</td>\n",
       "      <td>22392</td>\n",
       "    </tr>\n",
       "    <tr>\n",
       "      <td>3</td>\n",
       "      <td>2013</td>\n",
       "      <td>53505</td>\n",
       "    </tr>\n",
       "    <tr>\n",
       "      <td>2</td>\n",
       "      <td>2014</td>\n",
       "      <td>70404</td>\n",
       "    </tr>\n",
       "    <tr>\n",
       "      <td>1</td>\n",
       "      <td>2015</td>\n",
       "      <td>74125</td>\n",
       "    </tr>\n",
       "    <tr>\n",
       "      <td>0</td>\n",
       "      <td>2016</td>\n",
       "      <td>65910</td>\n",
       "    </tr>\n",
       "    <tr>\n",
       "      <td>13</td>\n",
       "      <td>2017</td>\n",
       "      <td>51782</td>\n",
       "    </tr>\n",
       "    <tr>\n",
       "      <td>20</td>\n",
       "      <td>2018</td>\n",
       "      <td>22906</td>\n",
       "    </tr>\n",
       "  </tbody>\n",
       "</table>\n",
       "</div>"
      ],
      "text/plain": [
       "    Year  Count\n",
       "21  1997     27\n",
       "19  1998    119\n",
       "16  1999    267\n",
       "11  2000   1284\n",
       "10  2001   1612\n",
       "18  2002   1715\n",
       "9   2003   1684\n",
       "17  2004   2006\n",
       "8   2005   3130\n",
       "7   2006   3940\n",
       "6   2007   7157\n",
       "12  2008   7592\n",
       "14  2009  10487\n",
       "5   2010  11814\n",
       "15  2011  14664\n",
       "4   2012  22392\n",
       "3   2013  53505\n",
       "2   2014  70404\n",
       "1   2015  74125\n",
       "0   2016  65910\n",
       "13  2017  51782\n",
       "20  2018  22906"
      ]
     },
     "execution_count": 152,
     "metadata": {},
     "output_type": "execute_result"
    }
   ],
   "source": [
    "import numpy as np\n",
    "review_count = [0]*4\n",
    "book_count = [0]*4\n",
    "for key, value in review_counts_by_book.items():\n",
    "    review_count[0] += value\n",
    "    book_count[0] += 1\n",
    "    if value>=5:\n",
    "        review_count[1] += value\n",
    "        book_count[1] += 1\n",
    "    if value<5 and value>0:\n",
    "        review_count[2] += value\n",
    "        book_count[2] += 1\n",
    "    if value==0:\n",
    "        review_count[3] += value\n",
    "        book_count[3] += 1\n",
    "print(f\"Number of cookbooks: {book_count}\")\n",
    "print(f\"Number of cookbook reviews: {review_count}\")\n",
    "print(f\"Number of books with no reviews: {(28905+12)/44676}\")\n",
    "print(f\"Number of reviews per book: {428199/15759}\")\n",
    "byYear_count_sum = np.sum(list(review_counts_by_year.values()))\n",
    "print(f\"Number of reviews from 'review counts by year': {byYear_count_sum}\")\n",
    "\n",
    "counts_by_year = pd.DataFrame(list(zip(xs, list(review_counts_by_year.values()))), columns=[\"Year\", \"Count\"])\n",
    "counts_by_year.sort_values(by=\"Year\", inplace=True)\n",
    "counts_by_year"
   ]
  },
  {
   "cell_type": "code",
   "execution_count": 166,
   "metadata": {
    "ExecuteTime": {
     "end_time": "2019-11-07T01:07:03.910422Z",
     "start_time": "2019-11-07T01:07:03.901615Z"
    }
   },
   "outputs": [
    {
     "name": "stdout",
     "output_type": "stream",
     "text": [
      "{'overall': 5.0, 'verified': True, 'reviewTime': '08 5, 2016', 'reviewerID': 'A256TXY2E0KVSL', 'asin': '000215949X', 'style': {'Format:': ' Hardcover'}, 'reviewerName': 'David Yates', 'reviewText': 'Fantastic book, as with the rest in the series. The Beautiful Cookbook series is by far the gold standard for photography, recipes and in-depth information for the countries which they feature. Should be a required book series in every home !!', 'summary': 'Fantastic book, as with the rest in the series', 'unixReviewTime': 1470355200}\n",
      "{'overall': 5.0, 'verified': True, 'reviewTime': '03 5, 2016', 'reviewerID': 'A2A0X84N67HBLK', 'asin': '000215949X', 'style': {'Format:': ' Hardcover'}, 'reviewerName': 'L. G.', 'reviewText': 'I loved it.', 'summary': 'Five Stars', 'unixReviewTime': 1457136000}\n",
      "{'overall': 5.0, 'verified': True, 'reviewTime': '10 6, 2015', 'reviewerID': 'ATKEGNMMH5PSX', 'asin': '000215949X', 'style': {'Format:': ' Hardcover'}, 'reviewerName': 'John H. Hamilton', 'reviewText': 'Love this book, had wanted to buy it for quite a while. Not disappointing!!', 'summary': 'Great read and good recipes', 'unixReviewTime': 1444089600}\n",
      "{'overall': 5.0, 'verified': True, 'reviewTime': '08 22, 2015', 'reviewerID': 'AEQETO9WVO3XR', 'asin': '000215949X', 'style': {'Format:': ' Hardcover'}, 'reviewerName': 'Rocky OP', 'reviewText': 'I wanted this book for a long time but it was too expensive to buy new.  Then the opportunity came up to buy a used one that was in very good condition at a great price.  I am so happy I paid a fraction of the cost of a new one and the book arrived looking as if it were brand new.  This is a good book when it comes to the Mexican recipes....they are quite authentic.', 'summary': 'Then the opportunity came up to buy a used one that was in very good condition at a great price', 'unixReviewTime': 1440201600}\n",
      "{'overall': 4.0, 'verified': True, 'reviewTime': '02 22, 2015', 'reviewerID': 'AJ7Y7MR6LEFE', 'asin': '000215949X', 'style': {'Format:': ' Hardcover'}, 'reviewerName': 'Chicago', 'reviewText': 'nice cook book.', 'summary': 'Four Stars', 'unixReviewTime': 1424563200}\n",
      "{'overall': 4.0, 'verified': True, 'reviewTime': '02 4, 2015', 'reviewerID': 'AWBE67O9G52WJ', 'asin': '000215949X', 'style': {'Format:': ' Hardcover'}, 'reviewerName': 'Rolf Linse', 'reviewText': \"Great book, but as it's second hand, it has a strange smell...\", 'summary': 'Great cook book', 'unixReviewTime': 1423008000}\n",
      "{'category': ['Books', 'Cookbooks, Food & Wine', 'Regional & International'], 'description': [\"Though at first glance too luscious for the pots, pans and grease stains of the kitchen, this opulently illustrated oversize volume--travel book as much as recipe collection--can function there admirably, seducing the hungry and the restless. The latest in the publisher's series of regional cookbooks (others on Italy, China and Asia have preceded it), it will keep readers turning pages even if they never pick up a saucepan. Chapters alternate between discussing the different regions of France and offering a good selection of traditional recipes. French-born authors and cooks Marianne Comolli, Elisabeth Scotto and Michele Carles reflect on the history and geography of France with appetizers from Provence, entrees from Lyonnais and desserts from Anjou. This is hearty, not haute , cuisine: well-organized recipes are scaled for the average cook, who won't have to go in search of rare ingredients or spend hours chopping and mincing. Les soeurs Scotto make use of blenders and food processors when needed. Copyright 1989 Reed Business Information, Inc.\", \"The fourth title in this series, following last year's widely popular Italy the Beautiful Cookbook (Knapp, 1988), is quite similar to Robert Freson's The Taste of France (Stewart, Tabori & Chang, 1983). Both explore the various regions of the country, both are lavishly illustrated with full-page color photographs, and both provide recipes for traditional specialties from the areas they depict. The authors are well-known French food writers, but it is the photographs that stand out. A lovely book for those who can afford it.Copyright 1989 Reed Business Information, Inc.\"], 'title': 'France: The Beautiful Cookbook- Authentic Recipes from the Regions of France', 'also_buy': ['0002551543', '0002154463', '0002553708', '0002550326', '0002553481', '0002550296', '0002159317', '000215949X', '0681152710', '0002251965', '000215854X', '0002551152', '0002551519', '0002250357', '0002553724', '0681152664', '000255464X', '0681152672', '0067575986', '0060580305', '0060580313', '0868672505', '0618875530', '0002159996', '0067575927', '080418559X', '0067575862', '0895351854', 'B011WAGOZQ', '0067575951', '0681152699', '0067575978', '0067575994', '0867066008', '0060580291', '0067575870', '158479657X'], 'brand': 'Gilles Pudlowski', 'rank': '703,920inBooks(', 'also_view': ['0002551543', 'B011WA3PO4', '0002550326', '0002550296', '0002553708', '0002154463', '047090027X', '000215949X', '0002551152', '1579658768', '0618875530', '0002159317', '0681152672', '0681152710', '0847840964', '1607742675', '0002553481', '000255464X', '0811846466', '0067575935', '0517506629', '160774547X', '0002250357', '1623159369', '000215854X'], 'main_cat': 'Books', 'price': '$14.29', 'asin': '0002154129'}\n",
      "{'category': ['Books', 'Cookbooks, Food & Wine', 'Regional & International'], 'description': ['Lorenza de Medici has published more than 30 cookbooks. She has appeared in a 13-part series on Italian cooking for public television and conducts a cooking school at Badia a Coltibuono, an 11th-century estate and winery near the Chianti region of Tuscany. She divides her time between Milan and Badia a Coltibuono.', 'Marinated Swordfish (Teglia di Pesce Spada)  Serves 6 Swordflsh is one of the most common Sicilian fish. It is mainly caught in the channel that divides Sicily from Africa, and is sold fresh in the markets in autumn and winter. The fish is often grilled and served with oil, lemon juice and capers, which grow wild on the island and are preserved in salt. 6 swordfish steaks (tuna fish or snapper cutlets), about 7oz (220g) each salt and freshly ground pepper 1 cup (8 fl oz/250 ml) dry white wine 1 fresh rosemary sprig 4 garlic cloves, finely chopped  1/4 cup (2 fl oz/60 ml) extra virgin olive oil 2 tablespoons fine dry breadcrumbs 3 tablespoons drained capers, chopped juice of 1 lemon Place the swordfish steaks in a bowl and season with salt and pepper. Pour in the wine. Finely chop the rosemary leaves and add to fish with the garlic. Coat steaks well and marinate for at least 1 hour. Drain fish, reserving marinade. Brush a skillet with a little of the oil and heat it. Sprinkle fish with breadcrumbs and capers, add to skillet and cook on both sides until nearly cooked through, basting from time to time with marinade. Whisk the rest of the oil with the lemon juice in a small bowl. Pour over the fish and cook for a few more minutes. Serve hot. --------------------------------------------------------- Tuscan Trifle (Tiramisu) Serves 6 Tiramisu (\"pick me up\") is a modern version of a dessert first created in Siena, where it was called zuppa del Duca (the Duke\\'s soup!). From there it migrated to Florence, where it became very popular in the nineteenth century among the many English people who came to live in the city at that time. And so it was called zuppa inglese--English soup. Only recently, the same dessert with some variation--chiefly the substitution of rich mascarpone cheese for the original custard--has come to be called tiramisu. 3 egg yolks 3 tablespoons superfine (caster) sugar 1 1/3 cups (11 fl oz/330 ml) vin santo, Marsala or brandy 1/4 cup (2floz/60ml) very strong espresso coffee 8 oz (250g) mascarpone cheese, room temperature 1/2 cup (4 fl oz/125 ml) cream 1 egg white 4 oz (125 g) savoiardi or ladyfingers (sponge fingers) Make a zabaglione by beating the egg yolks and sugar in the top of a double boiler until ivory colored. Add 1/3 cup (3 fl oz/80 ml) liquor and whisk over gently simmering water until the mixture begins to thicken. Let cool. Stir the coffee into the mascarpone. Whip the cream to soft peaks. Beat the egg white until stiff. Fold the egg white into the zabaglione. Dip the lady fingers into the remaining liquor and arrange in a single layer in the bottom of a 9-in (23-cm) bowl. Cover them with half the mascarpone, then half the zabaglione and half the cream. Repeat the layers, finishing with the cream. Refrigerate for several hours before serving.'], 'title': 'Italy, The Beautiful Cookbook: Authentic Recipes from the Regions of Italy', 'also_buy': ['0002553708', '0002154129', '0002550326', '0002551543', '0002553481', '000215854X', '000215949X', '0002550296', '0002551519', '0002159317', '0681152710', '0002251965', '0002250357', '0002553724', 'B011WA3PO4', '0067575862', '0002551152', '0060580313', '0681152664', '0895351854', 'B011WAGOZQ', '0868672505', '0067575986', '0002113570', '0681152672', '000255464X', '0067575994', '1853911887', '0067575951', '0060580305', '0001982591', '1584791160'], 'brand': 'Patrizia Passigli', 'rank': '143,239inBooks(', 'also_view': ['0681152672', '0002553708', '0002550326', '0002154129', '0067575870', '0002551543', '0060580305', '0002550296', 'B011WA3PO4', '0002159317', '0002250357', '0002553481', '0895352109', '0002551519', '0681152664', '0002251965', '0681152710', '000215949X', '0449903648', '0743246268', '0867066008', '0002551152', '0681152680', '000215854X'], 'main_cat': 'Books', 'price': '$79.90', 'asin': '0002154463'}\n",
      "{'category': ['Books', 'Cookbooks, Food & Wine', 'Regional & International'], 'description': ['Two collections of California\\'s best. The latest addition to Collins\\'s popular series ( America the Beautiful Cookbook, LJ 11/15/90; France the Beautiful Cookbook, LJ 10/15/89; et al.) is a locally specialized but stunning entry. The photographs of the California scenery/scene are varied and vivid, while the food photography is quite spectacular, and the recipes are far better and more interesting than those in several of the previous books. Recommended for most California libraries, and for any others that can afford this luxury. Like Robert Schneider\\'s The Open Hand Cookbook ( LJ 11/15/89), the San Francisco Symphony\\'s benefit cookbook offers a tantalizing collection of menus from some of California\\'s most talented chefs. The roster of Bay Area contributors includes Jeremiah Tower, Alice Waters, Barbara Tropp, Ken Hom, and many other stars; many of the recipes are unmistakably \"California,\" but they do in fact represent a wide range of styles, and they\\'ve been well edited for the home cook. Recommended.Copyright 1991 Reed Business Information, Inc.'], 'title': 'California, The Beautiful Cookbook: Authentic Recipes from California', 'also_buy': ['0002553481', '0002551519', '000215854X', '0002553708', '0002154129', '0002251965', '0002550326', '0002250357', '0002154463', '0002551543', '0002550296', '0002553724', '0002551152', '000215949X', '0681152664', '0681152710', '0681152672', '0868672505', '0060580313', '0067575862', '000255464X', '0067575927', '0002159996', '0067575994', '0517692201', '0067575986', '0895351854', '0066214491'], 'brand': 'Virginia Rainey', 'rank': '767,416inBooks(', 'also_view': ['0002551519', '0002550326', '0002553481', '0002551543', '0002553724', '0002553708', '0002251965', '0681152710', '0002550296', '000215949X', '000215854X', '0002154129', '0002154463', 'B011WA3PO4', '0681152664', '0002250357', '1419728997', '0060580291', '0002551152', '0517692201', '0060580305', '0681152672', '0743255216'], 'main_cat': 'Books', 'price': '$12.95', 'asin': '0002159317'}\n",
      "{'category': ['Books', 'Cookbooks, Food & Wine', 'Regional & International'], 'description': ['Fifth in the series that includes the best-selling Italy the Beautiful (Knapp, 1988) and France the Beautiful ( LJ 10/15/89), this big picture book features traditional recipes from around the country, very brief introductions to the various regions, and lots of color photographs. Recipes--grouped by courses of a meal rather than region--give little sense of regional identity; most are familiar and available elsewhere; the blown-up food photographs are more interesting than the postcard views of the country. Buy for demand. Better Homes & Gardens Book Club selection.Copyright 1990 Reed Business Information, Inc.'], 'title': 'America: The Beautiful Cookbook', 'also_buy': ['0002251965', '0002553708', '0002553481', '0002159317', '0002550326', '0002154463', '0002551519', '0002250357', '000215949X', '0002154129', '0002551543', '0002551152', '0681152710', '0002550296', '0868672505', '0002553724', '0681152664', '0067575862', '0681152672', 'B011WAGOZQ', '000255464X', '0517692201', '0895351854', 'B011WA3PO4', '0067575986', '0002159996', '0067575951', '0681152699', '0067575943', '0067575927', '0060580305', '0066214491', '0811833836', '1580081495'], 'brand': 'Phillip S. Schulz', 'rank': '896,298inBooks(', 'also_view': ['0002550326', '0002250357', '0002553708', '000215949X', '0002550296', '0002159317', '0002553481', '0002551519', '0002251965', '0681152672', '0681152710', '0002551543', '0002553724', '0002551152', '0681152680', '0002154463', '0002154129', '0681152664'], 'main_cat': 'Books', 'price': '$13.34', 'asin': '000215854X'}\n",
      "{'category': ['Books', 'Cookbooks, Food & Wine', 'Regional & International'], 'description': [\"The latest addition to this popular series is a colorful guide to Mexico's diverse regional cuisine. Palazuelos is an experienced chef/caterer, and her recipes are inviting, her headnotes informative; Ignacio Urquiza's photographs of the food are eyecatching but uncontrived. There are many unusual dishes here, both traditional and contemporary, and most are far more sophisticated than the Tex-Mex fare many Americans identify as Mexican food. A good companion to Patricia Quintana's The Taste of Mexico ( LJ 12/86); recommended for most collections.Copyright 1991 Reed Business Information, Inc.\", '', \"Susanna Palazuelos has earned a reputation over the past two decades as Mexico's premier caterer. She has hosted parties around the world and at her estate in Acapulco, Casa Tres Fuentes. Palazuelos frequently attends culinary festivals in Mexico and abroad, sharing her vast knowledge of Mexican cooking, which includes traditional dishes as well as nouvelle cuisine. She was recently named to the Circulo Mexicano de Arte Culinario, a group honoring the distinguished women chefs of Mexico.\"], 'title': 'Mexico The Beautiful Cookbook: Authentic Recipes from the Regions of Mexico', 'also_buy': ['0002553708', '0002553481', '0002154463', '0002550296', '0002154129', '0002251965', '0002551152', '000215854X', '0002550326', '0002551543', '0681152710', '0002250357', '0002159317', '0002551519', '0470499559', '1118190203', '0061373265', '0399578285', '0895351854', '0067575862', '0307383253', '1936474735', '1607746859', '0681152672', '0681152664', 'B011WA3PO4', '000255464X', '0399578633', '0714869562', '030758772X', '0060580305', '0714867527', '0002553724', 'B011WAGOZQ', '0060580291', '039306154X', '076035488X', '0060580313', '1607743167', '0781813042', '0553447297', '0292722664', '1623154529', '0941434893', '1569710732', '068484186X', '0764564870', '1457699664', '1623157781', '6073126565', '1285847091', '0393050696', '1624141943', '0760352615', '0681152699', '0868672505', '0547636474', '0316118400', 'B002A7AI58'], 'brand': 'Susanna Palazuelos', 'rank': '235,258inBooks(', 'also_view': ['0067575862', '0061689513', '0002553481', '0714867527', '0399578285', '0061373265', '0470499559', '000255464X', '0307383253', '0002550296', '1936493977', '0754829618', 'B011WAGOZQ', '1118190203', '030758772X', '000215854X', '0781813042', '0002551543', '0393050696', '0002154129', '0002553708', '0002550326', '0002551152', '0553447297', '0307888266', '0002551519', '0714878057', '0002159317', '039306154X', '0547636474', '1607746859', '0002251965', '0743253345', '1845339037', '1501141813', '0292735812', '1681882663', '1909487279', '1579654355', '0681152710', '0002154463', '1939754062', 'B000GKV49K', '162315751X', '0714869562', '1250082919', '6073126565', '1936474735', '0737020490', '0873587871', '1641522194', '0681152672', '198535859X', '1623156513', '1607743167', '0307451100', '054480855X', '0002553724', '193361501X'], 'main_cat': 'Books', 'asin': '000215949X'}\n",
      "{'category': ['Books', 'Cookbooks, Food & Wine', 'Regional & International'], 'description': [\"This seven-day tour through the markets of Provence in France shares the authors' personal recommendations for what to see and where to eat, plus provides recipes and insights on local cuisine. Plenty of vivid color photos of market scenes accompany a blend of travelogue and culinary title which focuses on the cuisine of Southern France. -- Midwest Book Review\", 'Tour the markets of seven towns while exploring the role of the market in Provencal life, plus receive dozens of insider tips as the authors focus on food, present information on regional and seasonal specialties (with recipes in every chapter), wines, restaurants, and picnic spots.'], 'title': 'Markets of Provence: A Culinary Tour of Southern France', 'also_buy': ['1250051274', '0500289964', '1452140510'], 'brand': \"Visit Amazon's Dixon Long Page\", 'rank': '1,225,982inBooks(', 'also_view': ['1250051274', '0002551543'], 'main_cat': 'Books', 'price': '$25.15', 'asin': '0002250616'}\n"
     ]
    }
   ],
   "source": [
    "cookbook_reviews_path = \"../data/amzn/Cookbooks.json\"\n",
    "cookbook_meta_path = \"../data/amzn/meta_Cookbooks.json\"\n",
    "\n",
    "def first_n_lines(file_name, n=10):\n",
    "    count = 0\n",
    "    for l in parse(file_name):\n",
    "        count += 1\n",
    "        print(l)\n",
    "        if count>n or count>100:\n",
    "            break\n",
    "\n",
    "first_n_lines(cookbook_reviews_path, n=5)\n",
    "first_n_lines(cookbook_meta_path, n=5)"
   ]
  }
 ],
 "metadata": {
  "kernelspec": {
   "display_name": "Python [conda env:metis] *",
   "language": "python",
   "name": "conda-env-metis-py"
  },
  "language_info": {
   "codemirror_mode": {
    "name": "ipython",
    "version": 3
   },
   "file_extension": ".py",
   "mimetype": "text/x-python",
   "name": "python",
   "nbconvert_exporter": "python",
   "pygments_lexer": "ipython3",
   "version": "3.7.3"
  },
  "toc": {
   "base_numbering": 1,
   "nav_menu": {},
   "number_sections": true,
   "sideBar": true,
   "skip_h1_title": false,
   "title_cell": "Table of Contents",
   "title_sidebar": "Contents",
   "toc_cell": false,
   "toc_position": {},
   "toc_section_display": true,
   "toc_window_display": false
  }
 },
 "nbformat": 4,
 "nbformat_minor": 2
}
