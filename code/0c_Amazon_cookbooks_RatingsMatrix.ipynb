{
 "cells": [
  {
   "cell_type": "markdown",
   "metadata": {
    "ExecuteTime": {
     "end_time": "2019-11-09T23:31:14.262122Z",
     "start_time": "2019-11-09T23:31:14.259333Z"
    }
   },
   "source": [
    "### Amazon Cookbooks Topic-modeling: Create Categories and Scarpe for Pics"
   ]
  },
  {
   "cell_type": "markdown",
   "metadata": {},
   "source": [
    "__Purpose:__\n",
    "The purpose of this notebook is to:\n",
    "1. Create classes for classification task\n",
    "2. Calc average ratings per book for regresson\n",
    "3. Code for scraping of book images   "
   ]
  },
  {
   "cell_type": "code",
   "execution_count": 1,
   "metadata": {
    "ExecuteTime": {
     "end_time": "2019-11-10T23:20:45.228609Z",
     "start_time": "2019-11-10T23:20:42.636504Z"
    },
    "code_folding": []
   },
   "outputs": [],
   "source": [
    "import numpy as np\n",
    "import pandas as pd\n",
    "import re, string\n",
    "\n",
    "#import contractions\n",
    "from nltk.tokenize import word_tokenize\n",
    "from nltk.corpus import stopwords, wordnet\n",
    "from nltk.stem import WordNetLemmatizer\n",
    "from langdetect import detect\n",
    "from textblob import TextBlob\n",
    "\n",
    "from sklearn.feature_extraction.text import CountVectorizer, TfidfVectorizer\n",
    "from sklearn.model_selection import train_test_split\n",
    "from sklearn.decomposition import PCA, LatentDirichletAllocation, TruncatedSVD, NMF\n",
    "from sklearn.cluster import KMeans\n",
    "\n",
    "from joblib import dump, load\n",
    "import matplotlib.pyplot as plt\n",
    "import matplotlib.cm as cm\n",
    "%matplotlib inline\n",
    "\n",
    "    \n",
    "# --- Parser for reading in the Amazon json files (can be used for both reviews and metadata)\n",
    "# --- credits folloing parse() method to Julian McAuley UCSD: http://jmcauley.ucsd.edu/data/amazon/ \n",
    "def parse(path):\n",
    "    g = open(path, 'r')\n",
    "    for l in g:\n",
    "        yield json.loads(l)"
   ]
  },
  {
   "cell_type": "markdown",
   "metadata": {},
   "source": [
    "#### __Read Cookbook Reviews and Cookbook Metadata__"
   ]
  },
  {
   "cell_type": "code",
   "execution_count": 8,
   "metadata": {
    "ExecuteTime": {
     "end_time": "2019-11-10T23:30:08.512461Z",
     "start_time": "2019-11-10T23:30:04.481603Z"
    }
   },
   "outputs": [],
   "source": [
    "# --- Read cookbooks tables:  Products from meta_cookbooks.json and reviews from Cookbooks.json\n",
    "ckbk_meta_file = \"../data/amzn/meta_Cookbooks.json\"\n",
    "ckbk_reviews_file = \"../data/amzn/Cookbooks.json\"\n",
    "\n",
    "books_ASIN = {} #asin to idx lookup\n",
    "reviewer_ID = {} #reviewerID to idx lookup\n",
    "ratings_matrix =[]\n",
    "\n",
    "book_no = 0\n",
    "reviewer_no = 0\n",
    "\n",
    "count = 0\n",
    "for line in parse(ckbk_reviews_file):\n",
    "    if 'asin' in line and 'overall' in line and 'reviewerID' in line:    \n",
    "        if line['asin'] not in books_ASIN:\n",
    "            book_no += 1\n",
    "            books_ASIN[line['asin']] = book_no\n",
    "            \n",
    "        if line['reviewerID'] not in reviewer_ID:\n",
    "            reviewer_no += 1\n",
    "            reviewer_ID[line['reviewerID']] = reviewer_no\n",
    "            \n",
    "        string_to_append =  str(int(books_ASIN[line['asin']])) +\",\"\n",
    "        string_to_append += str(int(reviewer_ID[line['reviewerID']])) + \",\"\n",
    "        string_to_append += str(line['overall'])\n",
    "        \n",
    "        ratings_matrix.append(string_to_append)\n",
    "        \n",
    "        count += 1\n",
    "        \n",
    "    #if count>20000:\n",
    "    #    break\n",
    "#print(ratings_matrix)\n",
    "#print(f\"Reviewers: {reviewer_ID}\")\n",
    "#print(f\"Books: {books_ASIN}\")"
   ]
  },
  {
   "cell_type": "code",
   "execution_count": 5,
   "metadata": {
    "ExecuteTime": {
     "end_time": "2019-11-10T23:26:33.844359Z",
     "start_time": "2019-11-10T23:26:33.467720Z"
    }
   },
   "outputs": [
    {
     "name": "stdout",
     "output_type": "stream",
     "text": [
      "428522\n"
     ]
    },
    {
     "data": {
      "text/plain": [
       "5314381"
      ]
     },
     "execution_count": 5,
     "metadata": {},
     "output_type": "execute_result"
    }
   ],
   "source": [
    "print(len(ratings_matrix))\n",
    "\n",
    "output_file = \"../data/amzn/ratings_matrix.csv\"\n",
    "with open(output_file, \"w\") as f:\n",
    "    for i in ratings_matrix:\n",
    "        f.write(i+'\\n')\n",
    "\n",
    "output_bookIDs = \"../data/amzn/ratings_matrix_bookIDs.json\"\n",
    "open(output_bookIDs, \"w\").write(json.dumps(books_ASIN))\n",
    "\n",
    "output_reviewerID = \"../data/amzn/ratings_matrix_reviwerIDs.json\"\n",
    "open(output_reviewerID, \"w\").write(json.dumps(reviewer_ID))"
   ]
  },
  {
   "cell_type": "code",
   "execution_count": 12,
   "metadata": {
    "ExecuteTime": {
     "end_time": "2019-11-10T23:32:08.195277Z",
     "start_time": "2019-11-10T23:32:08.191177Z"
    }
   },
   "outputs": [
    {
     "name": "stdout",
     "output_type": "stream",
     "text": [
      "Ratings matrix has 15782 books and 210808 reviwers\n",
      "...with total reviews of 428522\n"
     ]
    }
   ],
   "source": [
    "print(f\"Ratings matrix has {len(books_ASIN)} books and {len(reviewer_ID)} reviwers\")\n",
    "print(f\"...with total reviews of {len(ratings_matrix)}\")\n"
   ]
  },
  {
   "cell_type": "code",
   "execution_count": null,
   "metadata": {},
   "outputs": [],
   "source": []
  }
 ],
 "metadata": {
  "kernelspec": {
   "display_name": "Python [conda env:metis] *",
   "language": "python",
   "name": "conda-env-metis-py"
  },
  "language_info": {
   "codemirror_mode": {
    "name": "ipython",
    "version": 3
   },
   "file_extension": ".py",
   "mimetype": "text/x-python",
   "name": "python",
   "nbconvert_exporter": "python",
   "pygments_lexer": "ipython3",
   "version": "3.7.3"
  },
  "toc": {
   "base_numbering": 1,
   "nav_menu": {},
   "number_sections": true,
   "sideBar": true,
   "skip_h1_title": false,
   "title_cell": "Table of Contents",
   "title_sidebar": "Contents",
   "toc_cell": false,
   "toc_position": {},
   "toc_section_display": true,
   "toc_window_display": false
  }
 },
 "nbformat": 4,
 "nbformat_minor": 2
}
