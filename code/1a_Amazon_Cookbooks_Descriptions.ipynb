{
 "cells": [
  {
   "cell_type": "code",
   "execution_count": 34,
   "metadata": {
    "ExecuteTime": {
     "end_time": "2019-11-07T22:57:37.000233Z",
     "start_time": "2019-11-07T22:57:33.345659Z"
    }
   },
   "outputs": [
    {
     "data": {
      "text/html": [
       "<div>\n",
       "<style scoped>\n",
       "    .dataframe tbody tr th:only-of-type {\n",
       "        vertical-align: middle;\n",
       "    }\n",
       "\n",
       "    .dataframe tbody tr th {\n",
       "        vertical-align: top;\n",
       "    }\n",
       "\n",
       "    .dataframe thead th {\n",
       "        text-align: right;\n",
       "    }\n",
       "</style>\n",
       "<table border=\"1\" class=\"dataframe\">\n",
       "  <thead>\n",
       "    <tr style=\"text-align: right;\">\n",
       "      <th></th>\n",
       "      <th>category</th>\n",
       "      <th>description</th>\n",
       "      <th>title</th>\n",
       "      <th>also_buy</th>\n",
       "      <th>brand</th>\n",
       "      <th>rank</th>\n",
       "      <th>also_view</th>\n",
       "      <th>main_cat</th>\n",
       "      <th>price</th>\n",
       "      <th>asin</th>\n",
       "      <th>image</th>\n",
       "      <th>feature</th>\n",
       "      <th>date</th>\n",
       "      <th>similar_item</th>\n",
       "      <th>details</th>\n",
       "    </tr>\n",
       "  </thead>\n",
       "  <tbody>\n",
       "    <tr>\n",
       "      <td>0</td>\n",
       "      <td>[Books, Cookbooks, Food &amp; Wine, Regional &amp; Int...</td>\n",
       "      <td>[Though at first glance too luscious for the p...</td>\n",
       "      <td>France: The Beautiful Cookbook- Authentic Reci...</td>\n",
       "      <td>[0002551543, 0002154463, 0002553708, 000255032...</td>\n",
       "      <td>Gilles Pudlowski</td>\n",
       "      <td>703,920inBooks(</td>\n",
       "      <td>[0002551543, B011WA3PO4, 0002550326, 000255029...</td>\n",
       "      <td>Books</td>\n",
       "      <td>$14.29</td>\n",
       "      <td>0002154129</td>\n",
       "      <td>NaN</td>\n",
       "      <td>NaN</td>\n",
       "      <td>NaT</td>\n",
       "      <td>NaN</td>\n",
       "      <td>NaN</td>\n",
       "    </tr>\n",
       "    <tr>\n",
       "      <td>1</td>\n",
       "      <td>[Books, Cookbooks, Food &amp; Wine, Regional &amp; Int...</td>\n",
       "      <td>[Lorenza de Medici has published more than 30 ...</td>\n",
       "      <td>Italy, The Beautiful Cookbook: Authentic Recip...</td>\n",
       "      <td>[0002553708, 0002154129, 0002550326, 000255154...</td>\n",
       "      <td>Patrizia Passigli</td>\n",
       "      <td>143,239inBooks(</td>\n",
       "      <td>[0681152672, 0002553708, 0002550326, 000215412...</td>\n",
       "      <td>Books</td>\n",
       "      <td>$79.90</td>\n",
       "      <td>0002154463</td>\n",
       "      <td>NaN</td>\n",
       "      <td>NaN</td>\n",
       "      <td>NaT</td>\n",
       "      <td>NaN</td>\n",
       "      <td>NaN</td>\n",
       "    </tr>\n",
       "    <tr>\n",
       "      <td>2</td>\n",
       "      <td>[Books, Cookbooks, Food &amp; Wine, Regional &amp; Int...</td>\n",
       "      <td>[Two collections of California's best. The lat...</td>\n",
       "      <td>California, The Beautiful Cookbook: Authentic ...</td>\n",
       "      <td>[0002553481, 0002551519, 000215854X, 000255370...</td>\n",
       "      <td>Virginia Rainey</td>\n",
       "      <td>767,416inBooks(</td>\n",
       "      <td>[0002551519, 0002550326, 0002553481, 000255154...</td>\n",
       "      <td>Books</td>\n",
       "      <td>$12.95</td>\n",
       "      <td>0002159317</td>\n",
       "      <td>NaN</td>\n",
       "      <td>NaN</td>\n",
       "      <td>NaT</td>\n",
       "      <td>NaN</td>\n",
       "      <td>NaN</td>\n",
       "    </tr>\n",
       "    <tr>\n",
       "      <td>3</td>\n",
       "      <td>[Books, Cookbooks, Food &amp; Wine, Regional &amp; Int...</td>\n",
       "      <td>[Fifth in the series that includes the best-se...</td>\n",
       "      <td>America: The Beautiful Cookbook</td>\n",
       "      <td>[0002251965, 0002553708, 0002553481, 000215931...</td>\n",
       "      <td>Phillip S. Schulz</td>\n",
       "      <td>896,298inBooks(</td>\n",
       "      <td>[0002550326, 0002250357, 0002553708, 000215949...</td>\n",
       "      <td>Books</td>\n",
       "      <td>$13.34</td>\n",
       "      <td>000215854X</td>\n",
       "      <td>NaN</td>\n",
       "      <td>NaN</td>\n",
       "      <td>NaT</td>\n",
       "      <td>NaN</td>\n",
       "      <td>NaN</td>\n",
       "    </tr>\n",
       "    <tr>\n",
       "      <td>4</td>\n",
       "      <td>[Books, Cookbooks, Food &amp; Wine, Regional &amp; Int...</td>\n",
       "      <td>[The latest addition to this popular series is...</td>\n",
       "      <td>Mexico The Beautiful Cookbook: Authentic Recip...</td>\n",
       "      <td>[0002553708, 0002553481, 0002154463, 000255029...</td>\n",
       "      <td>Susanna Palazuelos</td>\n",
       "      <td>235,258inBooks(</td>\n",
       "      <td>[0067575862, 0061689513, 0002553481, 071486752...</td>\n",
       "      <td>Books</td>\n",
       "      <td>NaN</td>\n",
       "      <td>000215949X</td>\n",
       "      <td>NaN</td>\n",
       "      <td>NaN</td>\n",
       "      <td>NaT</td>\n",
       "      <td>NaN</td>\n",
       "      <td>NaN</td>\n",
       "    </tr>\n",
       "    <tr>\n",
       "      <td>...</td>\n",
       "      <td>...</td>\n",
       "      <td>...</td>\n",
       "      <td>...</td>\n",
       "      <td>...</td>\n",
       "      <td>...</td>\n",
       "      <td>...</td>\n",
       "      <td>...</td>\n",
       "      <td>...</td>\n",
       "      <td>...</td>\n",
       "      <td>...</td>\n",
       "      <td>...</td>\n",
       "      <td>...</td>\n",
       "      <td>...</td>\n",
       "      <td>...</td>\n",
       "      <td>...</td>\n",
       "    </tr>\n",
       "    <tr>\n",
       "      <td>44831</td>\n",
       "      <td>[Books, Cookbooks, Food &amp; Wine, Special Diet]</td>\n",
       "      <td>[Recipe Excerpts from The Joy Fit Club      Ch...</td>\n",
       "      <td>Joy Fit Club: Cookbook, Diet Plan &amp; Inspiration</td>\n",
       "      <td>[1609613120, 1401950396, 140195037X, 140195567...</td>\n",
       "      <td>Visit Amazon's Joy Bauer Page</td>\n",
       "      <td>72,498inBooks(</td>\n",
       "      <td>[1401955673, 1401950396, 1609613120, 031233602...</td>\n",
       "      <td>Books</td>\n",
       "      <td>$21.99</td>\n",
       "      <td>B01FMW2MZ6</td>\n",
       "      <td>NaN</td>\n",
       "      <td>NaN</td>\n",
       "      <td>NaT</td>\n",
       "      <td>NaN</td>\n",
       "      <td>\\n  &lt;div class=\"content\"&gt;\\n\\n\\n\\n\\n\\n\\n\\n&lt;ul&gt;\\...</td>\n",
       "    </tr>\n",
       "    <tr>\n",
       "      <td>44832</td>\n",
       "      <td>[Books, Cookbooks, Food &amp; Wine, Beverages &amp; Wine]</td>\n",
       "      <td>[\"A fascinating look at the place and function...</td>\n",
       "      <td>Drinking in America: Our Secret History</td>\n",
       "      <td>[0743405919, 0822348713, 0226121275, 162040252...</td>\n",
       "      <td>Visit Amazon's Susan Cheever Page</td>\n",
       "      <td>542,949inBooks(</td>\n",
       "      <td>[0029185300, 0743405919, 0226121275, 019502990...</td>\n",
       "      <td>Books</td>\n",
       "      <td>$9.73</td>\n",
       "      <td>B01FMVXYF4</td>\n",
       "      <td>NaN</td>\n",
       "      <td>NaN</td>\n",
       "      <td>NaT</td>\n",
       "      <td>NaN</td>\n",
       "      <td>\\n  &lt;div class=\"content\"&gt;\\n\\n\\n\\n\\n\\n\\n\\n&lt;ul&gt;\\...</td>\n",
       "    </tr>\n",
       "    <tr>\n",
       "      <td>44833</td>\n",
       "      <td>[Books, Cookbooks, Food &amp; Wine]</td>\n",
       "      <td>[ALL NEW 5th Edition to kick off 2017 with exp...</td>\n",
       "      <td>Entertaining with Vegetables: A Recipe Collect...</td>\n",
       "      <td>NaN</td>\n",
       "      <td>Chadwick Boyd</td>\n",
       "      <td>2,362,317inBooks(</td>\n",
       "      <td>[0999368117, 0316484156, 0393349322, 054773736...</td>\n",
       "      <td>Books</td>\n",
       "      <td>NaN</td>\n",
       "      <td>B01FUPYP0A</td>\n",
       "      <td>NaN</td>\n",
       "      <td>NaN</td>\n",
       "      <td>NaT</td>\n",
       "      <td>NaN</td>\n",
       "      <td>\\n  &lt;div class=\"content\"&gt;\\n\\n\\n\\n\\n\\n\\n\\n&lt;ul&gt;\\...</td>\n",
       "    </tr>\n",
       "    <tr>\n",
       "      <td>44834</td>\n",
       "      <td>[Books, Cookbooks, Food &amp; Wine]</td>\n",
       "      <td>[Grit Country Series Magazine 2016  (Volume 10...</td>\n",
       "      <td>Grit Guide to Cast Iron Cooking Magazine 2016</td>\n",
       "      <td>NaN</td>\n",
       "      <td>NaN</td>\n",
       "      <td>3,684,920inBooks(</td>\n",
       "      <td>NaN</td>\n",
       "      <td>Books</td>\n",
       "      <td>NaN</td>\n",
       "      <td>B01FV1VJ66</td>\n",
       "      <td>NaN</td>\n",
       "      <td>NaN</td>\n",
       "      <td>NaT</td>\n",
       "      <td>NaN</td>\n",
       "      <td>\\n  &lt;div class=\"content\"&gt;\\n\\n\\n\\n\\n\\n\\n\\n&lt;ul&gt;\\...</td>\n",
       "    </tr>\n",
       "    <tr>\n",
       "      <td>44835</td>\n",
       "      <td>[Books, Cookbooks, Food &amp; Wine]</td>\n",
       "      <td>[The Whole Planet Foundation cookbook was insp...</td>\n",
       "      <td>Liberation Soup and Other Recipes from Microen...</td>\n",
       "      <td>NaN</td>\n",
       "      <td>Philip Sansone</td>\n",
       "      <td>2,734,610inBooks(</td>\n",
       "      <td>NaN</td>\n",
       "      <td>Books</td>\n",
       "      <td>$19.90</td>\n",
       "      <td>B01GDAS296</td>\n",
       "      <td>NaN</td>\n",
       "      <td>NaN</td>\n",
       "      <td>NaT</td>\n",
       "      <td>NaN</td>\n",
       "      <td>\\n  &lt;div class=\"content\"&gt;\\n\\n\\n\\n\\n\\n\\n\\n&lt;ul&gt;\\...</td>\n",
       "    </tr>\n",
       "  </tbody>\n",
       "</table>\n",
       "<p>44836 rows × 15 columns</p>\n",
       "</div>"
      ],
      "text/plain": [
       "                                                category  \\\n",
       "0      [Books, Cookbooks, Food & Wine, Regional & Int...   \n",
       "1      [Books, Cookbooks, Food & Wine, Regional & Int...   \n",
       "2      [Books, Cookbooks, Food & Wine, Regional & Int...   \n",
       "3      [Books, Cookbooks, Food & Wine, Regional & Int...   \n",
       "4      [Books, Cookbooks, Food & Wine, Regional & Int...   \n",
       "...                                                  ...   \n",
       "44831      [Books, Cookbooks, Food & Wine, Special Diet]   \n",
       "44832  [Books, Cookbooks, Food & Wine, Beverages & Wine]   \n",
       "44833                    [Books, Cookbooks, Food & Wine]   \n",
       "44834                    [Books, Cookbooks, Food & Wine]   \n",
       "44835                    [Books, Cookbooks, Food & Wine]   \n",
       "\n",
       "                                             description  \\\n",
       "0      [Though at first glance too luscious for the p...   \n",
       "1      [Lorenza de Medici has published more than 30 ...   \n",
       "2      [Two collections of California's best. The lat...   \n",
       "3      [Fifth in the series that includes the best-se...   \n",
       "4      [The latest addition to this popular series is...   \n",
       "...                                                  ...   \n",
       "44831  [Recipe Excerpts from The Joy Fit Club      Ch...   \n",
       "44832  [\"A fascinating look at the place and function...   \n",
       "44833  [ALL NEW 5th Edition to kick off 2017 with exp...   \n",
       "44834  [Grit Country Series Magazine 2016  (Volume 10...   \n",
       "44835  [The Whole Planet Foundation cookbook was insp...   \n",
       "\n",
       "                                                   title  \\\n",
       "0      France: The Beautiful Cookbook- Authentic Reci...   \n",
       "1      Italy, The Beautiful Cookbook: Authentic Recip...   \n",
       "2      California, The Beautiful Cookbook: Authentic ...   \n",
       "3                        America: The Beautiful Cookbook   \n",
       "4      Mexico The Beautiful Cookbook: Authentic Recip...   \n",
       "...                                                  ...   \n",
       "44831    Joy Fit Club: Cookbook, Diet Plan & Inspiration   \n",
       "44832            Drinking in America: Our Secret History   \n",
       "44833  Entertaining with Vegetables: A Recipe Collect...   \n",
       "44834      Grit Guide to Cast Iron Cooking Magazine 2016   \n",
       "44835  Liberation Soup and Other Recipes from Microen...   \n",
       "\n",
       "                                                also_buy  \\\n",
       "0      [0002551543, 0002154463, 0002553708, 000255032...   \n",
       "1      [0002553708, 0002154129, 0002550326, 000255154...   \n",
       "2      [0002553481, 0002551519, 000215854X, 000255370...   \n",
       "3      [0002251965, 0002553708, 0002553481, 000215931...   \n",
       "4      [0002553708, 0002553481, 0002154463, 000255029...   \n",
       "...                                                  ...   \n",
       "44831  [1609613120, 1401950396, 140195037X, 140195567...   \n",
       "44832  [0743405919, 0822348713, 0226121275, 162040252...   \n",
       "44833                                                NaN   \n",
       "44834                                                NaN   \n",
       "44835                                                NaN   \n",
       "\n",
       "                                   brand               rank  \\\n",
       "0                       Gilles Pudlowski    703,920inBooks(   \n",
       "1                      Patrizia Passigli    143,239inBooks(   \n",
       "2                        Virginia Rainey    767,416inBooks(   \n",
       "3                      Phillip S. Schulz    896,298inBooks(   \n",
       "4                     Susanna Palazuelos    235,258inBooks(   \n",
       "...                                  ...                ...   \n",
       "44831      Visit Amazon's Joy Bauer Page     72,498inBooks(   \n",
       "44832  Visit Amazon's Susan Cheever Page    542,949inBooks(   \n",
       "44833                      Chadwick Boyd  2,362,317inBooks(   \n",
       "44834                                NaN  3,684,920inBooks(   \n",
       "44835                     Philip Sansone  2,734,610inBooks(   \n",
       "\n",
       "                                               also_view main_cat   price  \\\n",
       "0      [0002551543, B011WA3PO4, 0002550326, 000255029...    Books  $14.29   \n",
       "1      [0681152672, 0002553708, 0002550326, 000215412...    Books  $79.90   \n",
       "2      [0002551519, 0002550326, 0002553481, 000255154...    Books  $12.95   \n",
       "3      [0002550326, 0002250357, 0002553708, 000215949...    Books  $13.34   \n",
       "4      [0067575862, 0061689513, 0002553481, 071486752...    Books     NaN   \n",
       "...                                                  ...      ...     ...   \n",
       "44831  [1401955673, 1401950396, 1609613120, 031233602...    Books  $21.99   \n",
       "44832  [0029185300, 0743405919, 0226121275, 019502990...    Books   $9.73   \n",
       "44833  [0999368117, 0316484156, 0393349322, 054773736...    Books     NaN   \n",
       "44834                                                NaN    Books     NaN   \n",
       "44835                                                NaN    Books  $19.90   \n",
       "\n",
       "             asin image feature date similar_item  \\\n",
       "0      0002154129   NaN     NaN  NaT          NaN   \n",
       "1      0002154463   NaN     NaN  NaT          NaN   \n",
       "2      0002159317   NaN     NaN  NaT          NaN   \n",
       "3      000215854X   NaN     NaN  NaT          NaN   \n",
       "4      000215949X   NaN     NaN  NaT          NaN   \n",
       "...           ...   ...     ...  ...          ...   \n",
       "44831  B01FMW2MZ6   NaN     NaN  NaT          NaN   \n",
       "44832  B01FMVXYF4   NaN     NaN  NaT          NaN   \n",
       "44833  B01FUPYP0A   NaN     NaN  NaT          NaN   \n",
       "44834  B01FV1VJ66   NaN     NaN  NaT          NaN   \n",
       "44835  B01GDAS296   NaN     NaN  NaT          NaN   \n",
       "\n",
       "                                                 details  \n",
       "0                                                    NaN  \n",
       "1                                                    NaN  \n",
       "2                                                    NaN  \n",
       "3                                                    NaN  \n",
       "4                                                    NaN  \n",
       "...                                                  ...  \n",
       "44831  \\n  <div class=\"content\">\\n\\n\\n\\n\\n\\n\\n\\n<ul>\\...  \n",
       "44832  \\n  <div class=\"content\">\\n\\n\\n\\n\\n\\n\\n\\n<ul>\\...  \n",
       "44833  \\n  <div class=\"content\">\\n\\n\\n\\n\\n\\n\\n\\n<ul>\\...  \n",
       "44834  \\n  <div class=\"content\">\\n\\n\\n\\n\\n\\n\\n\\n<ul>\\...  \n",
       "44835  \\n  <div class=\"content\">\\n\\n\\n\\n\\n\\n\\n\\n<ul>\\...  \n",
       "\n",
       "[44836 rows x 15 columns]"
      ]
     },
     "execution_count": 34,
     "metadata": {},
     "output_type": "execute_result"
    }
   ],
   "source": [
    "import numpy as np\n",
    "import pandas as pd\n",
    "\n",
    "ckbk_meta_file = \"../data/amzn/meta_Cookbooks.json\"\n",
    "ckbk_reviews_file = \"../data/amzn/Cookbooks.json\"\n",
    "\n",
    "# --- Parser for reading in the Amazon json files (can be used for both reviews and metadata)\n",
    "def parse(path):\n",
    "    g = open(path, 'r')\n",
    "    for l in g:\n",
    "        yield json.loads(l)\n",
    "        \n",
    "\n",
    "ckbks = pd.read_json(ckbk_meta_file, lines=True)\n",
    "ckbks"
   ]
  },
  {
   "cell_type": "code",
   "execution_count": 35,
   "metadata": {
    "ExecuteTime": {
     "end_time": "2019-11-07T22:57:42.062150Z",
     "start_time": "2019-11-07T22:57:40.897404Z"
    }
   },
   "outputs": [
    {
     "data": {
      "text/html": [
       "<div>\n",
       "<style scoped>\n",
       "    .dataframe tbody tr th:only-of-type {\n",
       "        vertical-align: middle;\n",
       "    }\n",
       "\n",
       "    .dataframe tbody tr th {\n",
       "        vertical-align: top;\n",
       "    }\n",
       "\n",
       "    .dataframe thead th {\n",
       "        text-align: right;\n",
       "    }\n",
       "</style>\n",
       "<table border=\"1\" class=\"dataframe\">\n",
       "  <thead>\n",
       "    <tr style=\"text-align: right;\">\n",
       "      <th></th>\n",
       "      <th>desc_count</th>\n",
       "    </tr>\n",
       "  </thead>\n",
       "  <tbody>\n",
       "    <tr>\n",
       "      <td>count</td>\n",
       "      <td>27571.000000</td>\n",
       "    </tr>\n",
       "    <tr>\n",
       "      <td>mean</td>\n",
       "      <td>204.249864</td>\n",
       "    </tr>\n",
       "    <tr>\n",
       "      <td>std</td>\n",
       "      <td>269.020570</td>\n",
       "    </tr>\n",
       "    <tr>\n",
       "      <td>min</td>\n",
       "      <td>20.000000</td>\n",
       "    </tr>\n",
       "    <tr>\n",
       "      <td>25%</td>\n",
       "      <td>66.000000</td>\n",
       "    </tr>\n",
       "    <tr>\n",
       "      <td>50%</td>\n",
       "      <td>134.000000</td>\n",
       "    </tr>\n",
       "    <tr>\n",
       "      <td>75%</td>\n",
       "      <td>264.000000</td>\n",
       "    </tr>\n",
       "    <tr>\n",
       "      <td>max</td>\n",
       "      <td>10260.000000</td>\n",
       "    </tr>\n",
       "  </tbody>\n",
       "</table>\n",
       "</div>"
      ],
      "text/plain": [
       "         desc_count\n",
       "count  27571.000000\n",
       "mean     204.249864\n",
       "std      269.020570\n",
       "min       20.000000\n",
       "25%       66.000000\n",
       "50%      134.000000\n",
       "75%      264.000000\n",
       "max    10260.000000"
      ]
     },
     "execution_count": 35,
     "metadata": {},
     "output_type": "execute_result"
    }
   ],
   "source": [
    "ckbks[\"desc\"] = ckbks[\"description\"].apply(lambda x: \" \".join(str(x).split()))\n",
    "ckbks[\"desc_count\"] = ckbks[\"description\"].apply(lambda x: len(\" \".join(x).split()))\n",
    "#ckbks[\"rank_no\"] = ckbks[\"rank\"].apply(lambda x: int(str(x[:-8]).replace(\",\", \"\")))\n",
    "ckbks[ckbks[\"desc_count\"] >= 20].describe()"
   ]
  },
  {
   "cell_type": "code",
   "execution_count": 36,
   "metadata": {
    "ExecuteTime": {
     "end_time": "2019-11-07T22:57:45.230591Z",
     "start_time": "2019-11-07T22:57:45.222091Z"
    }
   },
   "outputs": [
    {
     "name": "stderr",
     "output_type": "stream",
     "text": [
      "//anaconda3/envs/metis/lib/python3.7/site-packages/ipykernel_launcher.py:2: FutureWarning: \n",
      "The current behaviour of 'Series.argmax' is deprecated, use 'idxmax'\n",
      "instead.\n",
      "The behavior of 'argmax' will be corrected to return the positional\n",
      "maximum in the future. For now, use 'series.values.argmax' or\n",
      "'np.argmax(np.array(values))' to get the position of the maximum\n",
      "row.\n",
      "  \n"
     ]
    },
    {
     "data": {
      "text/plain": [
       "category        [Books, Cookbooks, Food & Wine, Cooking by Ing...\n",
       "description     [Dr. Bernard Jensen was one of Americas pionee...\n",
       "title           Foods That Heal: A Guide to Understanding and ...\n",
       "also_buy        [0658002759, 0895295849, 0658002791, 065800278...\n",
       "brand                                          Dr. Bernard Jensen\n",
       "rank                                              286,486inBooks(\n",
       "also_view       [0895295849, 0658002759, 1401948324, 065800279...\n",
       "main_cat                                                    Books\n",
       "price                                                      $13.77\n",
       "asin                                                   0895295636\n",
       "image                                                         NaN\n",
       "feature                                                       NaN\n",
       "date                                                          NaT\n",
       "similar_item                                                  NaN\n",
       "details                                                       NaN\n",
       "desc            ['Dr. Bernard Jensen was one of Americas pione...\n",
       "desc_count                                                  10260\n",
       "Name: 14446, dtype: object"
      ]
     },
     "execution_count": 36,
     "metadata": {},
     "output_type": "execute_result"
    }
   ],
   "source": [
    "# --- Explore max count\n",
    "ckbks.iloc[ckbks[\"desc_count\"].argmax()]"
   ]
  },
  {
   "cell_type": "code",
   "execution_count": 51,
   "metadata": {
    "ExecuteTime": {
     "end_time": "2019-11-07T23:03:31.054845Z",
     "start_time": "2019-11-07T23:03:30.704824Z"
    }
   },
   "outputs": [
    {
     "name": "stdout",
     "output_type": "stream",
     "text": [
      "&lt;!-- /* Font Definitions */ @font-face {font-family:\"Cambria Math\"; panose-1:2 4 5 3 5 4 6 3 2 4; mso-font-charset:0; mso-generic-font-family:auto; mso-font-pitch:variable; mso-font-signature:-536870145 1107305727 0 0 415 0;} @font-face {font-family:Calibri; panose-1:2 15 5 2 2 2 4 3 2 4; mso-font-charset:0; mso-generic-font-family:auto; mso-font-pitch:variable; mso-font-signature:-520092929 1073786111 9 0 415 0;} /* Style Definitions */ p.MsoNormal, li.MsoNormal, div.MsoNormal {mso-style-unhide:no; mso-style-qformat:yes; mso-style-parent:\"\"; margin-top:0in; margin-right:0in; margin-bottom:10.0pt; margin-left:0in; line-height:115%; mso-pagination:widow-orphan; font-size:11.0pt; font-family:Calibri; mso-ascii-font-family:Calibri; mso-ascii-theme-font:minor-latin; mso-fareast-font-family:Calibri; mso-fareast-theme-font:minor-latin; mso-hansi-font-family:Calibri; mso-hansi-theme-font:minor-latin; mso-bidi-font-family:\"Times New Roman\"; mso-bidi-theme-font:minor-bidi; mso-ansi-language:EN-GB;} .MsoChpDefault {mso-style-type:export-only; mso-default-props:yes; font-size:11.0pt; mso-ansi-font-size:11.0pt; mso-bidi-font-size:11.0pt; font-family:Calibri; mso-ascii-font-family:Calibri; mso-ascii-theme-font:minor-latin; mso-fareast-font-family:Calibri; mso-fareast-theme-font:minor-latin; mso-hansi-font-family:Calibri; mso-hansi-theme-font:minor-latin; mso-bidi-font-family:\"Times New Roman\"; mso-bidi-theme-font:minor-bidi; mso-ansi-language:EN-GB;} .MsoPapDefault {mso-style-type:export-only; margin-bottom:10.0pt; line-height:115%;} @page WordSection1 {size:8.5in 11.0in; margin:1.0in 1.25in 1.0in 1.25in; mso-header-margin:.5in; mso-footer-margin:.5in; mso-paper-source:0;} div.WordSection1 {page:WordSection1;} --&gt;  Home economist Joanna Farrow works as a freelance writer for food magazines and has written many cookery books for Hamlyn, including Quick and Easy Celebration Cakes, 30-Minute Vegetarian and Sauce. She is also a food stylist for books, magazines and advertising photography.\n"
     ]
    },
    {
     "data": {
      "text/plain": [
       "'<!-- /* Font Definitions */ @font-face {font-family:\"Cambria Math\"; panose-1:2 4 5 3 5 4 6 3 2 4; mso-font-charset:0; mso-generic-font-family:auto; mso-font-pitch:variable; mso-font-signature:-536870145 1107305727 0 0 415 0;} @font-face {font-family:Calibri; panose-1:2 15 5 2 2 2 4 3 2 4; mso-font-charset:0; mso-generic-font-family:auto; mso-font-pitch:variable; mso-font-signature:-520092929 1073786111 9 0 415 0;} /* Style Definitions */ p.MsoNormal, li.MsoNormal, div.MsoNormal {mso-style-unhide:no; mso-style-qformat:yes; mso-style-parent:\"\"; margin-top:0in; margin-right:0in; margin-bottom:10.0pt; margin-left:0in; line-height:115%; mso-pagination:widow-orphan; font-size:11.0pt; font-family:Calibri; mso-ascii-font-family:Calibri; mso-ascii-theme-font:minor-latin; mso-fareast-font-family:Calibri; mso-fareast-theme-font:minor-latin; mso-hansi-font-family:Calibri; mso-hansi-theme-font:minor-latin; mso-bidi-font-family:\"Times New Roman\"; mso-bidi-theme-font:minor-bidi; mso-ansi-language:EN-GB;} .MsoChpDefault {mso-style-type:export-only; mso-default-props:yes; font-size:11.0pt; mso-ansi-font-size:11.0pt; mso-bidi-font-size:11.0pt; font-family:Calibri; mso-ascii-font-family:Calibri; mso-ascii-theme-font:minor-latin; mso-fareast-font-family:Calibri; mso-fareast-theme-font:minor-latin; mso-hansi-font-family:Calibri; mso-hansi-theme-font:minor-latin; mso-bidi-font-family:\"Times New Roman\"; mso-bidi-theme-font:minor-bidi; mso-ansi-language:EN-GB;} .MsoPapDefault {mso-style-type:export-only; margin-bottom:10.0pt; line-height:115%;} @page WordSection1 {size:8.5in 11.0in; margin:1.0in 1.25in 1.0in 1.25in; mso-header-margin:.5in; mso-footer-margin:.5in; mso-paper-source:0;} div.WordSection1 {page:WordSection1;} -->  Home economist Joanna Farrow works as a freelance writer for food magazines and has written many cookery books for Hamlyn, including Quick and Easy Celebration Cakes, 30-Minute Vegetarian and Sauce. She is also a food stylist for books, magazines and advertising photography.'"
      ]
     },
     "execution_count": 51,
     "metadata": {},
     "output_type": "execute_result"
    }
   ],
   "source": [
    "from bs4 import BeautifulSoup\n",
    "text = ckbks.iloc[5537][\"description\"][0]\n",
    "print(text)\n",
    "soup = BeautifulSoup(text)\n",
    "text_nohtml = soup.get_text()\n",
    "text_nohtml"
   ]
  },
  {
   "cell_type": "code",
   "execution_count": 37,
   "metadata": {
    "ExecuteTime": {
     "end_time": "2019-11-07T22:57:48.533231Z",
     "start_time": "2019-11-07T22:57:48.526414Z"
    }
   },
   "outputs": [
    {
     "data": {
      "text/plain": [
       "category                          [Books, Cookbooks, Food & Wine]\n",
       "description     [-                     ,         --     -     ...\n",
       "title                                         Ranna Khaddo Pushti\n",
       "also_buy                                                      NaN\n",
       "brand                                     Professor Siddiqa Kabir\n",
       "rank                                            5,629,668inBooks(\n",
       "also_view                                            [B0006F0POA]\n",
       "main_cat                                                    Books\n",
       "price                                                         NaN\n",
       "asin                                                   B0083GTNG0\n",
       "image                                                         NaN\n",
       "feature                                                       NaN\n",
       "date                                                          NaT\n",
       "similar_item                                                  NaN\n",
       "details         \\n  <div class=\"content\">\\n\\n\\n\\n\\n\\n\\n\\n<ul>\\...\n",
       "desc              ['- , -- - , - , - - , - - / // / // / / // /']\n",
       "desc_count                                                     20\n",
       "Name: 44574, dtype: object"
      ]
     },
     "execution_count": 37,
     "metadata": {},
     "output_type": "execute_result"
    }
   ],
   "source": [
    "x=44575\n",
    "ckbks.iloc[x-1]\n",
    "#ckbks.iloc[x-1][\"desc_len\"]"
   ]
  },
  {
   "cell_type": "code",
   "execution_count": 38,
   "metadata": {
    "ExecuteTime": {
     "end_time": "2019-11-07T22:57:56.098782Z",
     "start_time": "2019-11-07T22:57:54.016727Z"
    }
   },
   "outputs": [
    {
     "name": "stdout",
     "output_type": "stream",
     "text": [
      "The size of the processed data: (27571, 4)\n"
     ]
    },
    {
     "data": {
      "text/html": [
       "<div>\n",
       "<style scoped>\n",
       "    .dataframe tbody tr th:only-of-type {\n",
       "        vertical-align: middle;\n",
       "    }\n",
       "\n",
       "    .dataframe tbody tr th {\n",
       "        vertical-align: top;\n",
       "    }\n",
       "\n",
       "    .dataframe thead th {\n",
       "        text-align: right;\n",
       "    }\n",
       "</style>\n",
       "<table border=\"1\" class=\"dataframe\">\n",
       "  <thead>\n",
       "    <tr style=\"text-align: right;\">\n",
       "      <th></th>\n",
       "      <th>asin</th>\n",
       "      <th>title</th>\n",
       "      <th>desc</th>\n",
       "      <th>desc_new</th>\n",
       "    </tr>\n",
       "  </thead>\n",
       "  <tbody>\n",
       "    <tr>\n",
       "      <td>0</td>\n",
       "      <td>0002154129</td>\n",
       "      <td>France: The Beautiful Cookbook- Authentic Reci...</td>\n",
       "      <td>[\"Though at first glance too luscious for the ...</td>\n",
       "      <td>though at first glance too luscious for the ...</td>\n",
       "    </tr>\n",
       "    <tr>\n",
       "      <td>1</td>\n",
       "      <td>0002154463</td>\n",
       "      <td>Italy, The Beautiful Cookbook: Authentic Recip...</td>\n",
       "      <td>['Lorenza de Medici has published more than 30...</td>\n",
       "      <td>lorenza de medici has published more than   ...</td>\n",
       "    </tr>\n",
       "    <tr>\n",
       "      <td>2</td>\n",
       "      <td>0002159317</td>\n",
       "      <td>California, The Beautiful Cookbook: Authentic ...</td>\n",
       "      <td>['Two collections of California\\'s best. The l...</td>\n",
       "      <td>two collections of california  s best  the l...</td>\n",
       "    </tr>\n",
       "    <tr>\n",
       "      <td>3</td>\n",
       "      <td>000215854X</td>\n",
       "      <td>America: The Beautiful Cookbook</td>\n",
       "      <td>['Fifth in the series that includes the best-s...</td>\n",
       "      <td>fifth in the series that includes the best s...</td>\n",
       "    </tr>\n",
       "    <tr>\n",
       "      <td>4</td>\n",
       "      <td>000215949X</td>\n",
       "      <td>Mexico The Beautiful Cookbook: Authentic Recip...</td>\n",
       "      <td>[\"The latest addition to this popular series i...</td>\n",
       "      <td>the latest addition to this popular series i...</td>\n",
       "    </tr>\n",
       "  </tbody>\n",
       "</table>\n",
       "</div>"
      ],
      "text/plain": [
       "         asin                                              title  \\\n",
       "0  0002154129  France: The Beautiful Cookbook- Authentic Reci...   \n",
       "1  0002154463  Italy, The Beautiful Cookbook: Authentic Recip...   \n",
       "2  0002159317  California, The Beautiful Cookbook: Authentic ...   \n",
       "3  000215854X                    America: The Beautiful Cookbook   \n",
       "4  000215949X  Mexico The Beautiful Cookbook: Authentic Recip...   \n",
       "\n",
       "                                                desc  \\\n",
       "0  [\"Though at first glance too luscious for the ...   \n",
       "1  ['Lorenza de Medici has published more than 30...   \n",
       "2  ['Two collections of California\\'s best. The l...   \n",
       "3  ['Fifth in the series that includes the best-s...   \n",
       "4  [\"The latest addition to this popular series i...   \n",
       "\n",
       "                                            desc_new  \n",
       "0    though at first glance too luscious for the ...  \n",
       "1    lorenza de medici has published more than   ...  \n",
       "2    two collections of california  s best  the l...  \n",
       "3    fifth in the series that includes the best s...  \n",
       "4    the latest addition to this popular series i...  "
      ]
     },
     "execution_count": 38,
     "metadata": {},
     "output_type": "execute_result"
    }
   ],
   "source": [
    "# --- Text preprocessing steps - remove numbers, captial letters and punctuation\n",
    "import re\n",
    "import string\n",
    "\n",
    "data = ckbks[ckbks[\"desc_count\"] >= 20][[\"asin\", \"title\", \"desc\"]].copy()\n",
    "\n",
    "alphanumeric = lambda x: re.sub('[\\d]+', ' ', x)\n",
    "punc_lower = lambda x: re.sub('[%s]' % re.escape(string.punctuation), ' ', x.lower())\n",
    "\n",
    "data['desc_new'] = data.desc.map(punc_lower)\n",
    "data['desc_new'] = data.desc_new.map(alphanumeric)\n",
    "print(f\"The size of the processed data: {data.shape}\")\n",
    "data.head()"
   ]
  },
  {
   "cell_type": "code",
   "execution_count": 7,
   "metadata": {
    "ExecuteTime": {
     "end_time": "2019-11-07T13:44:19.962221Z",
     "start_time": "2019-11-07T13:44:19.928201Z"
    }
   },
   "outputs": [
    {
     "data": {
      "text/html": [
       "<div>\n",
       "<style scoped>\n",
       "    .dataframe tbody tr th:only-of-type {\n",
       "        vertical-align: middle;\n",
       "    }\n",
       "\n",
       "    .dataframe tbody tr th {\n",
       "        vertical-align: top;\n",
       "    }\n",
       "\n",
       "    .dataframe thead th {\n",
       "        text-align: right;\n",
       "    }\n",
       "</style>\n",
       "<table border=\"1\" class=\"dataframe\">\n",
       "  <thead>\n",
       "    <tr style=\"text-align: right;\">\n",
       "      <th></th>\n",
       "      <th>asin</th>\n",
       "      <th>title</th>\n",
       "      <th>desc</th>\n",
       "      <th>desc_new</th>\n",
       "      <th>greek</th>\n",
       "    </tr>\n",
       "  </thead>\n",
       "  <tbody>\n",
       "    <tr>\n",
       "      <td>43192</td>\n",
       "      <td>9604931253</td>\n",
       "      <td>edesmatologion christougennon ton alismoniton ...</td>\n",
       "      <td>[\"OTAN AKOYΣ AΠO ΠAIΔI ΓIA HΣ AΛHΣMONHTEΣ ΠATP...</td>\n",
       "      <td>otan akoyς aπo πaiδi γia hς aλhσmonhteς πatp...</td>\n",
       "      <td>33</td>\n",
       "    </tr>\n",
       "  </tbody>\n",
       "</table>\n",
       "</div>"
      ],
      "text/plain": [
       "             asin                                              title  \\\n",
       "43192  9604931253  edesmatologion christougennon ton alismoniton ...   \n",
       "\n",
       "                                                    desc  \\\n",
       "43192  [\"OTAN AKOYΣ AΠO ΠAIΔI ΓIA HΣ AΛHΣMONHTEΣ ΠATP...   \n",
       "\n",
       "                                                desc_new  greek  \n",
       "43192    otan akoyς aπo πaiδi γia hς aλhσmonhteς πatp...     33  "
      ]
     },
     "execution_count": 7,
     "metadata": {},
     "output_type": "execute_result"
    }
   ],
   "source": [
    "data[\"greek\"] = data[\"desc_new\"].str.find(\"σ\")\n",
    "data[data[\"greek\"]>0]"
   ]
  },
  {
   "cell_type": "code",
   "execution_count": 8,
   "metadata": {
    "ExecuteTime": {
     "end_time": "2019-11-07T13:44:19.974573Z",
     "start_time": "2019-11-07T13:44:19.964557Z"
    }
   },
   "outputs": [
    {
     "data": {
      "text/html": [
       "<div>\n",
       "<style scoped>\n",
       "    .dataframe tbody tr th:only-of-type {\n",
       "        vertical-align: middle;\n",
       "    }\n",
       "\n",
       "    .dataframe tbody tr th {\n",
       "        vertical-align: top;\n",
       "    }\n",
       "\n",
       "    .dataframe thead th {\n",
       "        text-align: right;\n",
       "    }\n",
       "</style>\n",
       "<table border=\"1\" class=\"dataframe\">\n",
       "  <thead>\n",
       "    <tr style=\"text-align: right;\">\n",
       "      <th></th>\n",
       "      <th>asin</th>\n",
       "      <th>title</th>\n",
       "      <th>desc</th>\n",
       "      <th>desc_new</th>\n",
       "      <th>greek</th>\n",
       "    </tr>\n",
       "  </thead>\n",
       "  <tbody>\n",
       "  </tbody>\n",
       "</table>\n",
       "</div>"
      ],
      "text/plain": [
       "Empty DataFrame\n",
       "Columns: [asin, title, desc, desc_new, greek]\n",
       "Index: []"
      ]
     },
     "execution_count": 8,
     "metadata": {},
     "output_type": "execute_result"
    }
   ],
   "source": [
    "data.drop(index=43192, inplace=True)\n",
    "data[data[\"greek\"]>0]"
   ]
  },
  {
   "cell_type": "code",
   "execution_count": 9,
   "metadata": {
    "ExecuteTime": {
     "end_time": "2019-11-07T13:44:19.979214Z",
     "start_time": "2019-11-07T13:44:19.975824Z"
    }
   },
   "outputs": [
    {
     "data": {
      "text/plain": [
       "(27570, 5)"
      ]
     },
     "execution_count": 9,
     "metadata": {},
     "output_type": "execute_result"
    }
   ],
   "source": [
    "data.shape"
   ]
  },
  {
   "cell_type": "markdown",
   "metadata": {
    "ExecuteTime": {
     "end_time": "2019-11-07T23:32:02.157278Z",
     "start_time": "2019-11-07T23:32:02.145228Z"
    }
   },
   "source": [
    "### PCA Using Description"
   ]
  },
  {
   "cell_type": "code",
   "execution_count": 10,
   "metadata": {
    "ExecuteTime": {
     "end_time": "2019-11-07T13:44:29.206585Z",
     "start_time": "2019-11-07T13:44:19.980614Z"
    }
   },
   "outputs": [],
   "source": [
    "from sklearn.feature_extraction.text import CountVectorizer\n",
    "from sklearn.model_selection import train_test_split\n",
    "\n",
    "X_train, X_test, _, _ = train_test_split(data['desc_new'], data['asin'], test_size=0.3, random_state=42)\n",
    "cv1 = CountVectorizer(stop_words='english')\n",
    "\n",
    "X_train_cv1 = cv1.fit_transform(X_train)\n",
    "X_test_cv1  = cv1.transform(X_test)\n",
    "\n",
    "xtrain = pd.DataFrame(X_train_cv1.toarray(), columns=cv1.get_feature_names())\n",
    "xtest = pd.DataFrame(X_test_cv1.toarray(), columns=cv1.get_feature_names())"
   ]
  },
  {
   "cell_type": "code",
   "execution_count": 11,
   "metadata": {
    "ExecuteTime": {
     "end_time": "2019-11-07T13:44:29.213655Z",
     "start_time": "2019-11-07T13:44:29.209449Z"
    }
   },
   "outputs": [
    {
     "name": "stdout",
     "output_type": "stream",
     "text": [
      "Train doc-term mat shape: (19299, 88475)\n",
      "Test doc-term mat shape: (8271, 88475)\n"
     ]
    }
   ],
   "source": [
    "print(f\"Train doc-term mat shape: {xtrain.shape}\\nTest doc-term mat shape: {xtest.shape}\")"
   ]
  },
  {
   "cell_type": "code",
   "execution_count": 12,
   "metadata": {
    "ExecuteTime": {
     "end_time": "2019-11-07T14:09:50.222922Z",
     "start_time": "2019-11-07T13:46:02.857793Z"
    }
   },
   "outputs": [],
   "source": [
    "from sklearn.decomposition import PCA\n",
    "\n",
    "pca = PCA(n_components=2)\n",
    "xtrain_pcs = pca.fit_transform(xtrain)"
   ]
  },
  {
   "cell_type": "code",
   "execution_count": 23,
   "metadata": {
    "ExecuteTime": {
     "end_time": "2019-11-07T14:30:01.342955Z",
     "start_time": "2019-11-07T14:30:01.295626Z"
    }
   },
   "outputs": [
    {
     "data": {
      "text/plain": [
       "['../model/ver1_PCAobj.joblib']"
      ]
     },
     "execution_count": 23,
     "metadata": {},
     "output_type": "execute_result"
    }
   ],
   "source": [
    "from joblib import dump, load\n",
    "dump(xtrain_pcs, \"../model/ver1_trainPCA2.joblib\")\n",
    "dump(pca, \"../model/ver1_PCAobj.joblib\")"
   ]
  },
  {
   "cell_type": "code",
   "execution_count": 33,
   "metadata": {
    "ExecuteTime": {
     "end_time": "2019-11-07T17:05:20.504468Z",
     "start_time": "2019-11-07T17:05:20.165667Z"
    }
   },
   "outputs": [
    {
     "data": {
      "image/png": "[encoded data removed]",
      "text/plain": [
       "<Figure size 432x288 with 1 Axes>"
      ]
     },
     "metadata": {
      "needs_background": "light"
     },
     "output_type": "display_data"
    }
   ],
   "source": [
    "import matplotlib.pyplot as plt\n",
    "%matplotlib inline\n",
    "\n",
    "#plt.ylim(-20, 50)\n",
    "#plt.xlim(0, 15)\n",
    "plt.scatter(xtrain_pcs[:,0], xtrain_pcs[:,1])\n",
    "xmax = np.max(xtrain_pcs[:,0])\n",
    "ymax = np.max(xtrain_pcs[:,1])\n",
    "#print(X_train.iloc[xtrain_pcs[:,0].argmax()])\n",
    "#print(xtrain_pcs.shape)"
   ]
  },
  {
   "cell_type": "code",
   "execution_count": null,
   "metadata": {},
   "outputs": [],
   "source": []
  }
 ],
 "metadata": {
  "kernelspec": {
   "display_name": "Python 3",
   "language": "python",
   "name": "python3"
  },
  "language_info": {
   "codemirror_mode": {
    "name": "ipython",
    "version": 3
   },
   "file_extension": ".py",
   "mimetype": "text/x-python",
   "name": "python",
   "nbconvert_exporter": "python",
   "pygments_lexer": "ipython3",
   "version": "3.7.3"
  },
  "toc": {
   "base_numbering": 1,
   "nav_menu": {},
   "number_sections": true,
   "sideBar": true,
   "skip_h1_title": false,
   "title_cell": "Table of Contents",
   "title_sidebar": "Contents",
   "toc_cell": false,
   "toc_position": {},
   "toc_section_display": true,
   "toc_window_display": false
  }
 },
 "nbformat": 4,
 "nbformat_minor": 2
}
