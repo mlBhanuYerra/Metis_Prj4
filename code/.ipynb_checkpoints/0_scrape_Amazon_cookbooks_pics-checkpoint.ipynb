{
 "cells": [
  {
   "cell_type": "markdown",
   "metadata": {
    "ExecuteTime": {
     "end_time": "2019-11-09T23:31:14.262122Z",
     "start_time": "2019-11-09T23:31:14.259333Z"
    }
   },
   "source": [
    "### Amazon Cookbooks Topic-modeling: Create Categories and Scarpe for Pics"
   ]
  },
  {
   "cell_type": "markdown",
   "metadata": {},
   "source": [
    "__Purpose:__\n",
    "The purpose of this notebook is to:\n",
    "1. Create classes for classification task\n",
    "2. Calc average ratings per book for regresson\n",
    "3. Code for scraping of book images   "
   ]
  },
  {
   "cell_type": "code",
   "execution_count": 2,
   "metadata": {},
   "outputs": [
    {
     "name": "stdout",
     "output_type": "stream",
     "text": [
      "Collecting langdetect\n",
      "\u001b[?25l  Downloading https://files.pythonhosted.org/packages/59/59/4bc44158a767a6d66de18c4136c8aa90491d56cc951c10b74dd1e13213c9/langdetect-1.0.7.zip (998kB)\n",
      "\u001b[K     |████████████████████████████████| 1.0MB 2.6MB/s eta 0:00:01\n",
      "\u001b[?25hRequirement already satisfied: six in /anaconda/envs/metis/lib/python3.7/site-packages (from langdetect) (1.12.0)\n",
      "Building wheels for collected packages: langdetect\n",
      "  Building wheel for langdetect (setup.py) ... \u001b[?25ldone\n",
      "\u001b[?25h  Created wheel for langdetect: filename=langdetect-1.0.7-cp37-none-any.whl size=993459 sha256=01a1408305efc67c87aad0a237ee1a35bd3028bec8b37f866a41831fb0c2d2cc\n",
      "  Stored in directory: /Users/bhanuyerra/Library/Caches/pip/wheels/ec/0c/a9/1647275e7ef5014e7b83ff30105180e332867d65e7617ddafe\n",
      "Successfully built langdetect\n",
      "Installing collected packages: langdetect\n",
      "Successfully installed langdetect-1.0.7\n"
     ]
    }
   ],
   "source": [
    "#!pip install langdetect"
   ]
  },
  {
   "cell_type": "code",
   "execution_count": 7,
   "metadata": {
    "ExecuteTime": {
     "end_time": "2019-11-10T14:44:56.264291Z",
     "start_time": "2019-11-10T14:44:56.243523Z"
    },
    "code_folding": []
   },
   "outputs": [],
   "source": [
    "import numpy as np\n",
    "import pandas as pd\n",
    "import re, string\n",
    "\n",
    "#import contractions\n",
    "from nltk.tokenize import word_tokenize\n",
    "from nltk.corpus import stopwords, wordnet\n",
    "from nltk.stem import WordNetLemmatizer\n",
    "from langdetect import detect\n",
    "from textblob import TextBlob\n",
    "\n",
    "from sklearn.feature_extraction.text import CountVectorizer, TfidfVectorizer\n",
    "from sklearn.model_selection import train_test_split\n",
    "from sklearn.decomposition import PCA, LatentDirichletAllocation, TruncatedSVD, NMF\n",
    "from sklearn.cluster import KMeans\n",
    "\n",
    "from joblib import dump, load\n",
    "import matplotlib.pyplot as plt\n",
    "import matplotlib.cm as cm\n",
    "%matplotlib inline\n",
    "\n",
    "    \n",
    "# --- Parser for reading in the Amazon json files (can be used for both reviews and metadata)\n",
    "# --- credits folloing parse() method to Julian McAuley UCSD: http://jmcauley.ucsd.edu/data/amazon/ \n",
    "def parse(path):\n",
    "    g = open(path, 'r')\n",
    "    for l in g:\n",
    "        yield json.loads(l)"
   ]
  },
  {
   "cell_type": "markdown",
   "metadata": {},
   "source": [
    "#### __Read Cookbook Reviews and Cookbook Metadata__"
   ]
  },
  {
   "cell_type": "code",
   "execution_count": 8,
   "metadata": {
    "ExecuteTime": {
     "end_time": "2019-11-10T02:46:38.977329Z",
     "start_time": "2019-11-10T02:46:36.840827Z"
    },
    "collapsed": true
   },
   "outputs": [
    {
     "name": "stdout",
     "output_type": "stream",
     "text": [
      "Index(['category', 'description', 'title', 'also_buy', 'brand', 'rank',\n",
      "       'also_view', 'main_cat', 'price', 'asin', 'image', 'feature', 'date',\n",
      "       'similar_item', 'details'],\n",
      "      dtype='object')\n"
     ]
    },
    {
     "data": {
      "text/html": [
       "<div>\n",
       "<style scoped>\n",
       "    .dataframe tbody tr th:only-of-type {\n",
       "        vertical-align: middle;\n",
       "    }\n",
       "\n",
       "    .dataframe tbody tr th {\n",
       "        vertical-align: top;\n",
       "    }\n",
       "\n",
       "    .dataframe thead th {\n",
       "        text-align: right;\n",
       "    }\n",
       "</style>\n",
       "<table border=\"1\" class=\"dataframe\">\n",
       "  <thead>\n",
       "    <tr style=\"text-align: right;\">\n",
       "      <th></th>\n",
       "      <th>category</th>\n",
       "      <th>description</th>\n",
       "      <th>title</th>\n",
       "      <th>asin</th>\n",
       "    </tr>\n",
       "  </thead>\n",
       "  <tbody>\n",
       "    <tr>\n",
       "      <td>0</td>\n",
       "      <td>[Books, Cookbooks, Food &amp; Wine, Regional &amp; Int...</td>\n",
       "      <td>[Though at first glance too luscious for the p...</td>\n",
       "      <td>France: The Beautiful Cookbook- Authentic Reci...</td>\n",
       "      <td>0002154129</td>\n",
       "    </tr>\n",
       "    <tr>\n",
       "      <td>1</td>\n",
       "      <td>[Books, Cookbooks, Food &amp; Wine, Regional &amp; Int...</td>\n",
       "      <td>[Lorenza de Medici has published more than 30 ...</td>\n",
       "      <td>Italy, The Beautiful Cookbook: Authentic Recip...</td>\n",
       "      <td>0002154463</td>\n",
       "    </tr>\n",
       "    <tr>\n",
       "      <td>2</td>\n",
       "      <td>[Books, Cookbooks, Food &amp; Wine, Regional &amp; Int...</td>\n",
       "      <td>[Two collections of California's best. The lat...</td>\n",
       "      <td>California, The Beautiful Cookbook: Authentic ...</td>\n",
       "      <td>0002159317</td>\n",
       "    </tr>\n",
       "    <tr>\n",
       "      <td>3</td>\n",
       "      <td>[Books, Cookbooks, Food &amp; Wine, Regional &amp; Int...</td>\n",
       "      <td>[Fifth in the series that includes the best-se...</td>\n",
       "      <td>America: The Beautiful Cookbook</td>\n",
       "      <td>000215854X</td>\n",
       "    </tr>\n",
       "    <tr>\n",
       "      <td>4</td>\n",
       "      <td>[Books, Cookbooks, Food &amp; Wine, Regional &amp; Int...</td>\n",
       "      <td>[The latest addition to this popular series is...</td>\n",
       "      <td>Mexico The Beautiful Cookbook: Authentic Recip...</td>\n",
       "      <td>000215949X</td>\n",
       "    </tr>\n",
       "    <tr>\n",
       "      <td>...</td>\n",
       "      <td>...</td>\n",
       "      <td>...</td>\n",
       "      <td>...</td>\n",
       "      <td>...</td>\n",
       "    </tr>\n",
       "    <tr>\n",
       "      <td>44831</td>\n",
       "      <td>[Books, Cookbooks, Food &amp; Wine, Special Diet]</td>\n",
       "      <td>[Recipe Excerpts from The Joy Fit Club      Ch...</td>\n",
       "      <td>Joy Fit Club: Cookbook, Diet Plan &amp; Inspiration</td>\n",
       "      <td>B01FMW2MZ6</td>\n",
       "    </tr>\n",
       "    <tr>\n",
       "      <td>44832</td>\n",
       "      <td>[Books, Cookbooks, Food &amp; Wine, Beverages &amp; Wine]</td>\n",
       "      <td>[\"A fascinating look at the place and function...</td>\n",
       "      <td>Drinking in America: Our Secret History</td>\n",
       "      <td>B01FMVXYF4</td>\n",
       "    </tr>\n",
       "    <tr>\n",
       "      <td>44833</td>\n",
       "      <td>[Books, Cookbooks, Food &amp; Wine]</td>\n",
       "      <td>[ALL NEW 5th Edition to kick off 2017 with exp...</td>\n",
       "      <td>Entertaining with Vegetables: A Recipe Collect...</td>\n",
       "      <td>B01FUPYP0A</td>\n",
       "    </tr>\n",
       "    <tr>\n",
       "      <td>44834</td>\n",
       "      <td>[Books, Cookbooks, Food &amp; Wine]</td>\n",
       "      <td>[Grit Country Series Magazine 2016  (Volume 10...</td>\n",
       "      <td>Grit Guide to Cast Iron Cooking Magazine 2016</td>\n",
       "      <td>B01FV1VJ66</td>\n",
       "    </tr>\n",
       "    <tr>\n",
       "      <td>44835</td>\n",
       "      <td>[Books, Cookbooks, Food &amp; Wine]</td>\n",
       "      <td>[The Whole Planet Foundation cookbook was insp...</td>\n",
       "      <td>Liberation Soup and Other Recipes from Microen...</td>\n",
       "      <td>B01GDAS296</td>\n",
       "    </tr>\n",
       "  </tbody>\n",
       "</table>\n",
       "<p>44836 rows × 4 columns</p>\n",
       "</div>"
      ],
      "text/plain": [
       "                                                category  \\\n",
       "0      [Books, Cookbooks, Food & Wine, Regional & Int...   \n",
       "1      [Books, Cookbooks, Food & Wine, Regional & Int...   \n",
       "2      [Books, Cookbooks, Food & Wine, Regional & Int...   \n",
       "3      [Books, Cookbooks, Food & Wine, Regional & Int...   \n",
       "4      [Books, Cookbooks, Food & Wine, Regional & Int...   \n",
       "...                                                  ...   \n",
       "44831      [Books, Cookbooks, Food & Wine, Special Diet]   \n",
       "44832  [Books, Cookbooks, Food & Wine, Beverages & Wine]   \n",
       "44833                    [Books, Cookbooks, Food & Wine]   \n",
       "44834                    [Books, Cookbooks, Food & Wine]   \n",
       "44835                    [Books, Cookbooks, Food & Wine]   \n",
       "\n",
       "                                             description  \\\n",
       "0      [Though at first glance too luscious for the p...   \n",
       "1      [Lorenza de Medici has published more than 30 ...   \n",
       "2      [Two collections of California's best. The lat...   \n",
       "3      [Fifth in the series that includes the best-se...   \n",
       "4      [The latest addition to this popular series is...   \n",
       "...                                                  ...   \n",
       "44831  [Recipe Excerpts from The Joy Fit Club      Ch...   \n",
       "44832  [\"A fascinating look at the place and function...   \n",
       "44833  [ALL NEW 5th Edition to kick off 2017 with exp...   \n",
       "44834  [Grit Country Series Magazine 2016  (Volume 10...   \n",
       "44835  [The Whole Planet Foundation cookbook was insp...   \n",
       "\n",
       "                                                   title        asin  \n",
       "0      France: The Beautiful Cookbook- Authentic Reci...  0002154129  \n",
       "1      Italy, The Beautiful Cookbook: Authentic Recip...  0002154463  \n",
       "2      California, The Beautiful Cookbook: Authentic ...  0002159317  \n",
       "3                        America: The Beautiful Cookbook  000215854X  \n",
       "4      Mexico The Beautiful Cookbook: Authentic Recip...  000215949X  \n",
       "...                                                  ...         ...  \n",
       "44831    Joy Fit Club: Cookbook, Diet Plan & Inspiration  B01FMW2MZ6  \n",
       "44832            Drinking in America: Our Secret History  B01FMVXYF4  \n",
       "44833  Entertaining with Vegetables: A Recipe Collect...  B01FUPYP0A  \n",
       "44834      Grit Guide to Cast Iron Cooking Magazine 2016  B01FV1VJ66  \n",
       "44835  Liberation Soup and Other Recipes from Microen...  B01GDAS296  \n",
       "\n",
       "[44836 rows x 4 columns]"
      ]
     },
     "execution_count": 8,
     "metadata": {},
     "output_type": "execute_result"
    }
   ],
   "source": [
    "# --- Read cookbooks tables:  Products from meta_cookbooks.json and reviews from Cookbooks.json\n",
    "ckbk_meta_file = \"../data/amzn/meta_Cookbooks.json\"\n",
    "ckbk_reviews_file = \"../data/amzn/Cookbooks.json\"\n",
    "\n",
    "ckbks = pd.read_json(ckbk_meta_file, lines=True)\n",
    "print(ckbks.columns)\n",
    "ckbks.drop(['also_buy', 'also_buy', 'brand', 'rank', 'also_view', 'main_cat', 'price', 'image', 'feature', 'date',\n",
    "       'similar_item', 'details'], axis=1, inplace=True)\n",
    "ckbks"
   ]
  },
  {
   "cell_type": "markdown",
   "metadata": {},
   "source": [
    "#### Create Categories\n",
    "1. Cookbooks on Amazon are under the following categories: Books > Cookbooks, Food & Wine \n",
    "   These are level 2 category.  Most of the books have sub-categories. Those that are in sparse sub-cookbook categpories are merged with their approximate neighbor branches. These are as follows:\n",
    "\n",
    "Sparse Level 3 cateogires are merged with their neighbor brances such that there are no classes less than a 1000 left. The merging is done as follows:\n",
    "\n",
    "\"Professional Cooking\": \"Cooking Education & Reference\"\n",
    "\"Celebrities & TV Shows\": \"Cooking Education & Reference\"\n",
    "\"Canning & Preserving\": \"Cooking Methods\"\n",
    "\"Desserts\": \"Baking\"\n",
    "\"Outdoor Cooking\": \"Cooking Methods\"\n",
    "\"Quick & Easy\": \"Cooking Methods\"\n",
    "\n",
    "   "
   ]
  },
  {
   "cell_type": "code",
   "execution_count": 9,
   "metadata": {
    "ExecuteTime": {
     "end_time": "2019-11-10T02:46:43.508775Z",
     "start_time": "2019-11-10T02:46:43.453876Z"
    },
    "code_folding": [],
    "collapsed": true
   },
   "outputs": [
    {
     "name": "stdout",
     "output_type": "stream",
     "text": [
      "Total number of categories: 44836\n"
     ]
    },
    {
     "data": {
      "text/plain": [
       "Regional & International         11597\n",
       "Cookbooks, Food & Wine            4963\n",
       "Cooking by Ingredient             4853\n",
       "Beverages & Wine                  4569\n",
       "Special Diet                      3902\n",
       "Baking                            3097\n",
       "Cooking Education & Reference     2252\n",
       "Cooking Methods                   2038\n",
       "Main Courses & Side Dishes        1441\n",
       "Entertaining & Holidays           1339\n",
       "Kitchen Appliances                1241\n",
       "Vegetarian & Vegan                1013\n",
       "Quick & Easy                       784\n",
       "Outdoor Cooking                    748\n",
       "Desserts                           574\n",
       "Canning & Preserving               299\n",
       "Celebrities & TV Shows              84\n",
       "Professional Cooking                42\n",
       "Name: cats, dtype: int64"
      ]
     },
     "execution_count": 9,
     "metadata": {},
     "output_type": "execute_result"
    }
   ],
   "source": [
    "#ckbks['level2cat'] = ckbks['category'].apply(lambda x: x[2])\n",
    "\n",
    "ckbks['cats'] = ckbks['category'].apply(lambda x: x[2] if len(x)==3 else x[1])\n",
    "print(f\"Total number of categories: {ckbks['cats'].value_counts().sum()}\")\n",
    "ckbks['cats'].value_counts()"
   ]
  },
  {
   "cell_type": "code",
   "execution_count": 10,
   "metadata": {
    "ExecuteTime": {
     "end_time": "2019-11-10T02:46:46.693008Z",
     "start_time": "2019-11-10T02:46:46.643168Z"
    },
    "code_folding": [],
    "collapsed": true
   },
   "outputs": [
    {
     "name": "stdout",
     "output_type": "stream",
     "text": [
      "Total number of books: 44836\n"
     ]
    },
    {
     "data": {
      "text/plain": [
       "['Regional & International',\n",
       " 'Cookbooks, Food & Wine',\n",
       " 'Cooking by Ingredient',\n",
       " 'Beverages & Wine',\n",
       " 'Special Diet',\n",
       " 'Cooking Methods',\n",
       " 'Baking',\n",
       " 'Cooking Education & Reference',\n",
       " 'Main Courses & Side Dishes',\n",
       " 'Entertaining & Holidays',\n",
       " 'Kitchen Appliances',\n",
       " 'Vegetarian & Vegan']"
      ]
     },
     "execution_count": 10,
     "metadata": {},
     "output_type": "execute_result"
    }
   ],
   "source": [
    "switch_categories = {\"Professional Cooking\": \"Cooking Education & Reference\",\n",
    "                    \"Celebrities & TV Shows\": \"Cooking Education & Reference\",\n",
    "                    \"Canning & Preserving\": \"Cooking Methods\",\n",
    "                    \"Desserts\": \"Baking\",\n",
    "                    \"Outdoor Cooking\": \"Cooking Methods\",\n",
    "                    \"Quick & Easy\": \"Cooking Methods\",\n",
    "                   }\n",
    "\n",
    "ckbks['new_category'] = ckbks['cats'].apply(lambda x: switch_categories[x] if x in switch_categories.keys() else x)\n",
    "print(f\"Total number of books: {ckbks['new_category'].value_counts().sum()}\")\n",
    "list(ckbks['new_category'].value_counts().index)"
   ]
  },
  {
   "cell_type": "code",
   "execution_count": 13,
   "metadata": {},
   "outputs": [
    {
     "name": "stdout",
     "output_type": "stream",
     "text": [
      "15782\n"
     ]
    }
   ],
   "source": [
    "import json\n",
    "output_file = \"../data/amzn/cookbook_ratings.csv\"\n",
    "with open(output_file, \"r\") as f:\n",
    "    book_ratings = json.loads(f.read())\n",
    "print(len(book_ratings))"
   ]
  },
  {
   "cell_type": "code",
   "execution_count": 14,
   "metadata": {
    "ExecuteTime": {
     "end_time": "2019-11-10T04:06:12.869955Z",
     "start_time": "2019-11-10T04:06:12.813307Z"
    }
   },
   "outputs": [],
   "source": [
    "#print(book_ratings['1101903910']['avg_rating'])\n",
    "ckbks[\"ratings\"] = ckbks['asin'].apply(lambda x: book_ratings[x]['avg_rating'] if x in book_ratings.keys() else 0)"
   ]
  },
  {
   "cell_type": "code",
   "execution_count": 15,
   "metadata": {
    "ExecuteTime": {
     "end_time": "2019-11-10T13:04:43.578312Z",
     "start_time": "2019-11-10T13:04:43.350333Z"
    }
   },
   "outputs": [],
   "source": [
    "import requests\n",
    "import re\n",
    "from bs4 import BeautifulSoup"
   ]
  },
  {
   "cell_type": "code",
   "execution_count": 16,
   "metadata": {
    "ExecuteTime": {
     "end_time": "2019-11-10T14:27:52.571950Z",
     "start_time": "2019-11-10T14:27:52.545062Z"
    }
   },
   "outputs": [],
   "source": [
    "imgUrl_list={\n",
    "    '1328631346':'https://m.media-amazon.com/images/I/91+4AszMZFL._AC_UY654_QL65_ML3_.jpg',\n",
    "    '1727408403':'https://m.media-amazon.com/images/I/51I+OG-KypL._AC_UY500_QL65_ML3_.jpg',\n",
    "    '1723830666':'https://m.media-amazon.com/images/I/51+4Oe0IyWL._AC_UY500_QL65_ML3_.jpg'\n",
    "}"
   ]
  },
  {
   "cell_type": "code",
   "execution_count": 20,
   "metadata": {
    "ExecuteTime": {
     "end_time": "2019-11-10T14:30:23.004066Z",
     "start_time": "2019-11-10T14:30:22.529677Z"
    }
   },
   "outputs": [],
   "source": [
    "import urllib.request as ul\n",
    "\n",
    "def saveImages(urlsDict, location=\"../data/amzn/covers/\"):\n",
    "    count = 0\n",
    "    for key, value in urlsDict.items():\n",
    "        filedata = ul.urlopen(value)\n",
    "        datatowrite = filedata.read()\n",
    " \n",
    "        with open(location+key+\".jpg\", 'wb') as f:\n",
    "            f.write(datatowrite)\n",
    "        count += 1\n",
    "        if count%100 == 0:\n",
    "            print(f\"Saved images of {count} of cookbook titles...\")\n",
    "\n",
    "saveImages(imgUrl_list)"
   ]
  },
  {
   "cell_type": "code",
   "execution_count": 22,
   "metadata": {
    "ExecuteTime": {
     "end_time": "2019-11-10T15:27:11.724888Z",
     "start_time": "2019-11-10T15:05:41.943662Z"
    }
   },
   "outputs": [
    {
     "name": "stdout",
     "output_type": "stream",
     "text": [
      "Saved urls for 1000 of cookbook titles...\n",
      "Saved urls for 2000 of cookbook titles...\n",
      "Saved urls for 3000 of cookbook titles...\n",
      "Saved urls for 4000 of cookbook titles...\n",
      "Saved urls for 5000 of cookbook titles...\n",
      "Saved urls for 6000 of cookbook titles...\n",
      "Saved urls for 7000 of cookbook titles...\n",
      "Saved urls for 8000 of cookbook titles...\n",
      "Saved urls for 9000 of cookbook titles...\n",
      "Saved urls for 10000 of cookbook titles...\n",
      "Saved urls for 11000 of cookbook titles...\n",
      "Saved urls for 12000 of cookbook titles...\n",
      "Saved urls for 13000 of cookbook titles...\n",
      "Saved urls for 14000 of cookbook titles...\n",
      "Saved urls for 15000 of cookbook titles...\n",
      "Saved urls for 16000 of cookbook titles...\n",
      "Saved urls for 17000 of cookbook titles...\n",
      "Saved urls for 18000 of cookbook titles...\n",
      "Saved urls for 19000 of cookbook titles...\n",
      "Saved urls for 20000 of cookbook titles...\n",
      "Saved urls for 21000 of cookbook titles...\n",
      "Saved urls for 22000 of cookbook titles...\n",
      "Saved urls for 23000 of cookbook titles...\n",
      "Saved urls for 24000 of cookbook titles...\n",
      "Saved urls for 25000 of cookbook titles...\n"
     ]
    },
    {
     "ename": "KeyboardInterrupt",
     "evalue": "",
     "output_type": "error",
     "traceback": [
      "\u001b[0;31m---------------------------------------------------------------------------\u001b[0m",
      "\u001b[0;31mKeyboardInterrupt\u001b[0m                         Traceback (most recent call last)",
      "\u001b[0;32m<ipython-input-22-253a227f9c5b>\u001b[0m in \u001b[0;36m<module>\u001b[0;34m\u001b[0m\n\u001b[1;32m     12\u001b[0m     \u001b[0mprod_keys\u001b[0m \u001b[0;34m=\u001b[0m \u001b[0mline\u001b[0m\u001b[0;34m.\u001b[0m\u001b[0mkeys\u001b[0m\u001b[0;34m(\u001b[0m\u001b[0;34m)\u001b[0m\u001b[0;34m\u001b[0m\u001b[0;34m\u001b[0m\u001b[0m\n\u001b[1;32m     13\u001b[0m     \u001b[0;32mif\u001b[0m \u001b[0;34m'asin'\u001b[0m \u001b[0;32min\u001b[0m \u001b[0mprod_keys\u001b[0m \u001b[0;32mand\u001b[0m \u001b[0;34m'imUrl'\u001b[0m \u001b[0;32min\u001b[0m \u001b[0mprod_keys\u001b[0m\u001b[0;34m:\u001b[0m\u001b[0;34m\u001b[0m\u001b[0;34m\u001b[0m\u001b[0m\n\u001b[0;32m---> 14\u001b[0;31m         \u001b[0;32mif\u001b[0m \u001b[0mline\u001b[0m\u001b[0;34m[\u001b[0m\u001b[0;34m'asin'\u001b[0m\u001b[0;34m]\u001b[0m \u001b[0;32min\u001b[0m \u001b[0mbookasins\u001b[0m\u001b[0;34m:\u001b[0m\u001b[0;34m\u001b[0m\u001b[0;34m\u001b[0m\u001b[0m\n\u001b[0m\u001b[1;32m     15\u001b[0m             \u001b[0mbookurls\u001b[0m\u001b[0;34m[\u001b[0m\u001b[0mline\u001b[0m\u001b[0;34m[\u001b[0m\u001b[0;34m'asin'\u001b[0m\u001b[0;34m]\u001b[0m\u001b[0;34m]\u001b[0m \u001b[0;34m=\u001b[0m \u001b[0mline\u001b[0m\u001b[0;34m[\u001b[0m\u001b[0;34m'imUrl'\u001b[0m\u001b[0;34m]\u001b[0m\u001b[0;34m\u001b[0m\u001b[0;34m\u001b[0m\u001b[0m\n\u001b[1;32m     16\u001b[0m             \u001b[0mcount\u001b[0m \u001b[0;34m+=\u001b[0m \u001b[0;36m1\u001b[0m\u001b[0;34m\u001b[0m\u001b[0;34m\u001b[0m\u001b[0m\n",
      "\u001b[0;31mKeyboardInterrupt\u001b[0m: "
     ]
    }
   ],
   "source": [
    "def parse2(path):\n",
    "    g = open(path, 'r')\n",
    "    for l in g:\n",
    "        yield eval(l)\n",
    "\n",
    "meta2014file = \"../data/amzn/2014Meta/metadata.json\"\n",
    "bookasins = list(ckbks['asin'])\n",
    "bookurls = {}\n",
    "\n",
    "count = 0\n",
    "for line in parse2(meta2014file):\n",
    "    prod_keys = line.keys()\n",
    "    if 'asin' in prod_keys and 'imUrl' in prod_keys:\n",
    "        if line['asin'] in bookasins:\n",
    "            bookurls[line['asin']] = line['imUrl']\n",
    "            count += 1\n",
    "            if count%1000 == 0:\n",
    "                print(f\"Saved urls for {count} of cookbook titles...\")\n",
    "\n",
    "print(f\"Completed gathering urls for cookbooks. Total urls gathered: {len(bookurls)}\")\n",
    "saveImages(bookurls)"
   ]
  },
  {
   "cell_type": "code",
   "execution_count": 26,
   "metadata": {
    "ExecuteTime": {
     "end_time": "2019-11-10T15:27:34.758020Z",
     "start_time": "2019-11-10T15:27:34.734796Z"
    }
   },
   "outputs": [
    {
     "name": "stdout",
     "output_type": "stream",
     "text": [
      "25845\n"
     ]
    }
   ],
   "source": [
    "print(len(bookurls))\n",
    "file_to_write = open(\"../data/amzn/cookbook_urls.dict\", \"w\") \n",
    "file_to_write.write(json.dumps(bookurls))\n",
    "file_to_write.close()\n",
    "#dump(bookurls, \"../data/amzn/cookbook_urls.dict\")\n",
    "#saveImages(bookurls)\n"
   ]
  },
  {
   "cell_type": "code",
   "execution_count": 28,
   "metadata": {},
   "outputs": [
    {
     "name": "stdout",
     "output_type": "stream",
     "text": [
      "Saved images of 100 of cookbook titles...\n",
      "Saved images of 200 of cookbook titles...\n",
      "Saved images of 300 of cookbook titles...\n",
      "Saved images of 400 of cookbook titles...\n",
      "Saved images of 500 of cookbook titles...\n",
      "Saved images of 600 of cookbook titles...\n",
      "Saved images of 700 of cookbook titles...\n",
      "Saved images of 800 of cookbook titles...\n",
      "Saved images of 900 of cookbook titles...\n",
      "Saved images of 1000 of cookbook titles...\n",
      "Saved images of 1100 of cookbook titles...\n",
      "Saved images of 1200 of cookbook titles...\n",
      "Saved images of 1300 of cookbook titles...\n",
      "Saved images of 1400 of cookbook titles...\n",
      "Saved images of 1500 of cookbook titles...\n",
      "Saved images of 1600 of cookbook titles...\n",
      "Saved images of 1700 of cookbook titles...\n",
      "Saved images of 1800 of cookbook titles...\n",
      "Saved images of 1900 of cookbook titles...\n",
      "Saved images of 2000 of cookbook titles...\n",
      "Saved images of 2100 of cookbook titles...\n",
      "Saved images of 2200 of cookbook titles...\n",
      "Saved images of 2300 of cookbook titles...\n",
      "Saved images of 2400 of cookbook titles...\n",
      "Saved images of 2500 of cookbook titles...\n",
      "Saved images of 2600 of cookbook titles...\n",
      "Saved images of 2700 of cookbook titles...\n",
      "Saved images of 2800 of cookbook titles...\n",
      "Saved images of 2900 of cookbook titles...\n",
      "Saved images of 3000 of cookbook titles...\n",
      "Saved images of 3100 of cookbook titles...\n",
      "Saved images of 3200 of cookbook titles...\n",
      "Saved images of 3300 of cookbook titles...\n",
      "Saved images of 3400 of cookbook titles...\n",
      "Saved images of 3500 of cookbook titles...\n",
      "Saved images of 3600 of cookbook titles...\n",
      "Saved images of 3700 of cookbook titles...\n",
      "Saved images of 3800 of cookbook titles...\n",
      "Saved images of 3900 of cookbook titles...\n",
      "Saved images of 4000 of cookbook titles...\n",
      "Saved images of 4100 of cookbook titles...\n",
      "Saved images of 4200 of cookbook titles...\n",
      "Saved images of 4300 of cookbook titles...\n",
      "Saved images of 4400 of cookbook titles...\n",
      "Saved images of 4500 of cookbook titles...\n",
      "Saved images of 4600 of cookbook titles...\n",
      "Saved images of 4700 of cookbook titles...\n",
      "Saved images of 4800 of cookbook titles...\n",
      "Saved images of 4900 of cookbook titles...\n",
      "Saved images of 5000 of cookbook titles...\n",
      "Saved images of 5100 of cookbook titles...\n",
      "Saved images of 5200 of cookbook titles...\n",
      "Saved images of 5300 of cookbook titles...\n",
      "Saved images of 5400 of cookbook titles...\n",
      "Saved images of 5500 of cookbook titles...\n",
      "Saved images of 5600 of cookbook titles...\n",
      "Saved images of 5700 of cookbook titles...\n",
      "Saved images of 5800 of cookbook titles...\n",
      "Saved images of 5900 of cookbook titles...\n",
      "Saved images of 6000 of cookbook titles...\n",
      "Saved images of 6100 of cookbook titles...\n",
      "Saved images of 6200 of cookbook titles...\n",
      "Saved images of 6300 of cookbook titles...\n",
      "Saved images of 6400 of cookbook titles...\n",
      "Saved images of 6500 of cookbook titles...\n",
      "Saved images of 6600 of cookbook titles...\n",
      "Saved images of 6700 of cookbook titles...\n",
      "Saved images of 6800 of cookbook titles...\n",
      "Saved images of 6900 of cookbook titles...\n",
      "Saved images of 7000 of cookbook titles...\n",
      "Saved images of 7100 of cookbook titles...\n",
      "Saved images of 7200 of cookbook titles...\n",
      "Saved images of 7300 of cookbook titles...\n",
      "Saved images of 7400 of cookbook titles...\n",
      "Saved images of 7500 of cookbook titles...\n",
      "Saved images of 7600 of cookbook titles...\n",
      "Saved images of 7700 of cookbook titles...\n",
      "Saved images of 7800 of cookbook titles...\n",
      "Saved images of 7900 of cookbook titles...\n",
      "Saved images of 8000 of cookbook titles...\n",
      "Saved images of 8100 of cookbook titles...\n",
      "Saved images of 8200 of cookbook titles...\n",
      "Saved images of 8300 of cookbook titles...\n",
      "Saved images of 8400 of cookbook titles...\n",
      "Saved images of 8500 of cookbook titles...\n",
      "Saved images of 8600 of cookbook titles...\n",
      "Saved images of 8700 of cookbook titles...\n",
      "Saved images of 8800 of cookbook titles...\n",
      "Saved images of 8900 of cookbook titles...\n",
      "Saved images of 9000 of cookbook titles...\n",
      "Saved images of 9100 of cookbook titles...\n",
      "Saved images of 9200 of cookbook titles...\n",
      "Saved images of 9300 of cookbook titles...\n",
      "Saved images of 9400 of cookbook titles...\n",
      "Saved images of 9500 of cookbook titles...\n",
      "Saved images of 9600 of cookbook titles...\n",
      "Saved images of 9700 of cookbook titles...\n",
      "Saved images of 9800 of cookbook titles...\n",
      "Saved images of 9900 of cookbook titles...\n",
      "Saved images of 10000 of cookbook titles...\n",
      "Saved images of 10100 of cookbook titles...\n",
      "Saved images of 10200 of cookbook titles...\n",
      "Saved images of 10300 of cookbook titles...\n",
      "Saved images of 10400 of cookbook titles...\n",
      "Saved images of 10500 of cookbook titles...\n",
      "Saved images of 10600 of cookbook titles...\n",
      "Saved images of 10700 of cookbook titles...\n",
      "Saved images of 10800 of cookbook titles...\n",
      "Saved images of 10900 of cookbook titles...\n",
      "Saved images of 11000 of cookbook titles...\n",
      "Saved images of 11100 of cookbook titles...\n",
      "Saved images of 11200 of cookbook titles...\n",
      "Saved images of 11300 of cookbook titles...\n",
      "Saved images of 11400 of cookbook titles...\n",
      "Saved images of 11500 of cookbook titles...\n",
      "Saved images of 11600 of cookbook titles...\n",
      "Saved images of 11700 of cookbook titles...\n",
      "Saved images of 11800 of cookbook titles...\n",
      "Saved images of 11900 of cookbook titles...\n",
      "Saved images of 12000 of cookbook titles...\n",
      "Saved images of 12100 of cookbook titles...\n",
      "Saved images of 12200 of cookbook titles...\n",
      "Saved images of 12300 of cookbook titles...\n",
      "Saved images of 12400 of cookbook titles...\n",
      "Saved images of 12500 of cookbook titles...\n",
      "Saved images of 12600 of cookbook titles...\n",
      "Saved images of 12700 of cookbook titles...\n",
      "Saved images of 12800 of cookbook titles...\n",
      "Saved images of 12900 of cookbook titles...\n",
      "Saved images of 13000 of cookbook titles...\n",
      "Saved images of 13100 of cookbook titles...\n",
      "Saved images of 13200 of cookbook titles...\n",
      "Saved images of 13300 of cookbook titles...\n",
      "Saved images of 13400 of cookbook titles...\n",
      "Saved images of 13500 of cookbook titles...\n",
      "Saved images of 13600 of cookbook titles...\n",
      "Saved images of 13700 of cookbook titles...\n",
      "Saved images of 13800 of cookbook titles...\n",
      "Saved images of 13900 of cookbook titles...\n",
      "Saved images of 14000 of cookbook titles...\n",
      "Saved images of 14100 of cookbook titles...\n",
      "Saved images of 14200 of cookbook titles...\n",
      "Saved images of 14300 of cookbook titles...\n",
      "Saved images of 14400 of cookbook titles...\n",
      "Saved images of 14500 of cookbook titles...\n",
      "Saved images of 14600 of cookbook titles...\n",
      "Saved images of 14700 of cookbook titles...\n",
      "Saved images of 14800 of cookbook titles...\n",
      "Saved images of 14900 of cookbook titles...\n",
      "Saved images of 15000 of cookbook titles...\n",
      "Saved images of 15100 of cookbook titles...\n",
      "Saved images of 15200 of cookbook titles...\n",
      "Saved images of 15300 of cookbook titles...\n",
      "Saved images of 15400 of cookbook titles...\n",
      "Saved images of 15500 of cookbook titles...\n",
      "Saved images of 15600 of cookbook titles...\n",
      "Saved images of 15700 of cookbook titles...\n",
      "Saved images of 15800 of cookbook titles...\n",
      "Saved images of 15900 of cookbook titles...\n",
      "Saved images of 16000 of cookbook titles...\n",
      "Saved images of 16100 of cookbook titles...\n",
      "Saved images of 16200 of cookbook titles...\n",
      "Saved images of 16300 of cookbook titles...\n",
      "Saved images of 16400 of cookbook titles...\n",
      "Saved images of 16500 of cookbook titles...\n",
      "Saved images of 16600 of cookbook titles...\n",
      "Saved images of 16700 of cookbook titles...\n",
      "Saved images of 16800 of cookbook titles...\n",
      "Saved images of 16900 of cookbook titles...\n",
      "Saved images of 17000 of cookbook titles...\n",
      "Saved images of 17100 of cookbook titles...\n",
      "Saved images of 17200 of cookbook titles...\n",
      "Saved images of 17300 of cookbook titles...\n",
      "Saved images of 17400 of cookbook titles...\n",
      "Saved images of 17500 of cookbook titles...\n",
      "Saved images of 17600 of cookbook titles...\n",
      "Saved images of 17700 of cookbook titles...\n",
      "Saved images of 17800 of cookbook titles...\n",
      "Saved images of 17900 of cookbook titles...\n",
      "Saved images of 18000 of cookbook titles...\n",
      "Saved images of 18100 of cookbook titles...\n",
      "Saved images of 18200 of cookbook titles...\n",
      "Saved images of 18300 of cookbook titles...\n",
      "Saved images of 18400 of cookbook titles...\n",
      "Saved images of 18500 of cookbook titles...\n",
      "Saved images of 18600 of cookbook titles...\n",
      "Saved images of 18700 of cookbook titles...\n",
      "Saved images of 18800 of cookbook titles...\n",
      "Saved images of 18900 of cookbook titles...\n"
     ]
    },
    {
     "name": "stdout",
     "output_type": "stream",
     "text": [
      "Saved images of 19000 of cookbook titles...\n",
      "Saved images of 19100 of cookbook titles...\n",
      "Saved images of 19200 of cookbook titles...\n",
      "Saved images of 19300 of cookbook titles...\n",
      "Saved images of 19400 of cookbook titles...\n",
      "Saved images of 19500 of cookbook titles...\n",
      "Saved images of 19600 of cookbook titles...\n",
      "Saved images of 19700 of cookbook titles...\n",
      "Saved images of 19800 of cookbook titles...\n",
      "Saved images of 19900 of cookbook titles...\n",
      "Saved images of 20000 of cookbook titles...\n",
      "Saved images of 20100 of cookbook titles...\n",
      "Saved images of 20200 of cookbook titles...\n",
      "Saved images of 20300 of cookbook titles...\n",
      "Saved images of 20400 of cookbook titles...\n",
      "Saved images of 20500 of cookbook titles...\n",
      "Saved images of 20600 of cookbook titles...\n",
      "Saved images of 20700 of cookbook titles...\n",
      "Saved images of 20800 of cookbook titles...\n",
      "Saved images of 20900 of cookbook titles...\n",
      "Saved images of 21000 of cookbook titles...\n",
      "Saved images of 21100 of cookbook titles...\n",
      "Saved images of 21200 of cookbook titles...\n",
      "Saved images of 21300 of cookbook titles...\n",
      "Saved images of 21400 of cookbook titles...\n",
      "Saved images of 21500 of cookbook titles...\n",
      "Saved images of 21600 of cookbook titles...\n",
      "Saved images of 21700 of cookbook titles...\n",
      "Saved images of 21800 of cookbook titles...\n",
      "Saved images of 21900 of cookbook titles...\n",
      "Saved images of 22000 of cookbook titles...\n",
      "Saved images of 22100 of cookbook titles...\n",
      "Saved images of 22200 of cookbook titles...\n",
      "Saved images of 22300 of cookbook titles...\n",
      "Saved images of 22400 of cookbook titles...\n",
      "Saved images of 22500 of cookbook titles...\n",
      "Saved images of 22600 of cookbook titles...\n",
      "Saved images of 22700 of cookbook titles...\n",
      "Saved images of 22800 of cookbook titles...\n",
      "Saved images of 22900 of cookbook titles...\n",
      "Saved images of 23000 of cookbook titles...\n",
      "Saved images of 23100 of cookbook titles...\n",
      "Saved images of 23200 of cookbook titles...\n",
      "Saved images of 23300 of cookbook titles...\n",
      "Saved images of 23400 of cookbook titles...\n",
      "Saved images of 23500 of cookbook titles...\n",
      "Saved images of 23600 of cookbook titles...\n",
      "Saved images of 23700 of cookbook titles...\n",
      "Saved images of 23800 of cookbook titles...\n",
      "Saved images of 23900 of cookbook titles...\n",
      "Saved images of 24000 of cookbook titles...\n",
      "Saved images of 24100 of cookbook titles...\n",
      "Saved images of 24200 of cookbook titles...\n",
      "Saved images of 24300 of cookbook titles...\n",
      "Saved images of 24400 of cookbook titles...\n",
      "Saved images of 24500 of cookbook titles...\n",
      "Saved images of 24600 of cookbook titles...\n",
      "Saved images of 24700 of cookbook titles...\n",
      "Saved images of 24800 of cookbook titles...\n",
      "Saved images of 24900 of cookbook titles...\n",
      "Saved images of 25000 of cookbook titles...\n",
      "Saved images of 25100 of cookbook titles...\n",
      "Saved images of 25200 of cookbook titles...\n",
      "Saved images of 25300 of cookbook titles...\n",
      "Saved images of 25400 of cookbook titles...\n",
      "Saved images of 25500 of cookbook titles...\n",
      "Saved images of 25600 of cookbook titles...\n",
      "Saved images of 25700 of cookbook titles...\n",
      "Saved images of 25800 of cookbook titles...\n"
     ]
    }
   ],
   "source": [
    "import urllib.request as ul\n",
    "\n",
    "\n",
    "\n",
    "def saveImages(urlsDict, location=\"../data/amzn/covers/\"):\n",
    "    count = 0\n",
    "    url_error_cookbooks = {}\n",
    "    for key, value in urlsDict.items():\n",
    "        try:\n",
    "            filedata = ul.urlopen(value)\n",
    "            datatowrite = filedata.read()\n",
    "            with open(location+key+\".jpg\", 'wb') as f:\n",
    "                f.write(datatowrite)\n",
    "            count += 1\n",
    "            if count%100 == 0:\n",
    "                print(f\"Saved images of {count} of cookbook titles...\")\n",
    "        except:\n",
    "            url_error_cookbooks[key] = value\n",
    "            pass\n",
    "    return count, url_error_cookbooks\n",
    "            \n",
    "books_w_imgs, books_wo_imgs = saveImages(bookurls)\n",
    "file_to_write = open(\"../data/amzn/cookbooks_wo_imgs.dict\", \"w\") \n",
    "file_to_write.write(json.dumps(books_wo_imgs))\n",
    "file_to_write.close()"
   ]
  },
  {
   "cell_type": "code",
   "execution_count": 30,
   "metadata": {},
   "outputs": [
    {
     "name": "stdout",
     "output_type": "stream",
     "text": [
      "19\n",
      "25826\n"
     ]
    }
   ],
   "source": [
    "print(len(books_wo_imgs))\n",
    "print((books_w_imgs))"
   ]
  }
 ],
 "metadata": {
  "kernelspec": {
   "display_name": "Python [conda env:metis] *",
   "language": "python",
   "name": "conda-env-metis-py"
  },
  "language_info": {
   "codemirror_mode": {
    "name": "ipython",
    "version": 3
   },
   "file_extension": ".py",
   "mimetype": "text/x-python",
   "name": "python",
   "nbconvert_exporter": "python",
   "pygments_lexer": "ipython3",
   "version": "3.7.3"
  },
  "toc": {
   "base_numbering": 1,
   "nav_menu": {},
   "number_sections": true,
   "sideBar": true,
   "skip_h1_title": false,
   "title_cell": "Table of Contents",
   "title_sidebar": "Contents",
   "toc_cell": false,
   "toc_position": {},
   "toc_section_display": true,
   "toc_window_display": false
  }
 },
 "nbformat": 4,
 "nbformat_minor": 2
}
