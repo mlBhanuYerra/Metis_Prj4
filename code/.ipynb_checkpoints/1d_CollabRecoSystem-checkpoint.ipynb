{
 "cells": [
  {
   "cell_type": "code",
   "execution_count": 1,
   "metadata": {
    "ExecuteTime": {
     "end_time": "2019-11-12T04:43:31.458419Z",
     "start_time": "2019-11-12T04:43:28.417308Z"
    }
   },
   "outputs": [],
   "source": [
    "import numpy as np\n",
    "import pandas as pd\n",
    "import re, string\n",
    "\n",
    "#import contractions\n",
    "from nltk.tokenize import word_tokenize\n",
    "from nltk.corpus import stopwords, wordnet\n",
    "from nltk.stem import WordNetLemmatizer\n",
    "from langdetect import detect\n",
    "from textblob import TextBlob\n",
    "\n",
    "from scipy.sparse import coo_matrix\n",
    "\n",
    "from sklearn.feature_extraction.text import CountVectorizer, TfidfVectorizer\n",
    "from sklearn.model_selection import train_test_split\n",
    "from sklearn.decomposition import PCA, LatentDirichletAllocation, TruncatedSVD, NMF\n",
    "from sklearn.cluster import KMeans\n",
    "\n",
    "from surprise import SVD\n",
    "from surprise import Dataset\n",
    "from surprise.model_selection import cross_validate, train_test_split\n",
    "from surprise import accuracy\n",
    "\n",
    "from joblib import dump, load\n",
    "import matplotlib.pyplot as plt\n",
    "import matplotlib.cm as cm\n",
    "%matplotlib inline\n",
    "\n",
    "# --- Parser for reading in the Amazon json files (can be used for both reviews and metadata)\n",
    "# --- credits folloing parse() method to Julian McAuley UCSD: http://jmcauley.ucsd.edu/data/amazon/ \n",
    "def parse(path):\n",
    "    g = open(path, 'r')\n",
    "    for l in g:\n",
    "        yield json.loads(l)"
   ]
  },
  {
   "cell_type": "code",
   "execution_count": 2,
   "metadata": {
    "ExecuteTime": {
     "end_time": "2019-11-12T04:44:39.600663Z",
     "start_time": "2019-11-12T04:44:39.393461Z"
    }
   },
   "outputs": [
    {
     "name": "stdout",
     "output_type": "stream",
     "text": [
      "Number of books with reviews: 15782\n",
      "Number of users: 210808\n"
     ]
    }
   ],
   "source": [
    "ratings_matrix_file = \"../data/amzn/ratings_matrix.csv\"\n",
    "book_ids_file = \"../data/amzn/ratings_matrix_bookIDs.json\"\n",
    "user_ids_file = \"../data/amzn/ratings_matrix_reviwerIDs.json\"\n",
    "\n",
    "books_ASIN = json.loads(open(book_ids_file).read()) #asin to idx lookup\n",
    "reviewer_ID = json.loads(open(user_ids_file).read()) #reviewerID to idx lookup\n",
    "\n",
    "print(f\"Number of books with reviews: {len(books_ASIN)}\")\n",
    "print(f\"Number of users: {len(reviewer_ID)}\")"
   ]
  },
  {
   "cell_type": "code",
   "execution_count": 3,
   "metadata": {
    "ExecuteTime": {
     "end_time": "2019-11-12T04:44:42.935218Z",
     "start_time": "2019-11-12T04:44:41.967735Z"
    }
   },
   "outputs": [
    {
     "name": "stdout",
     "output_type": "stream",
     "text": [
      "<class 'scipy.sparse.coo.coo_matrix'>\n"
     ]
    }
   ],
   "source": [
    "# --- Get ratings matrix (in book-user format) but convert to user-item format in COO matrix\n",
    "\n",
    "ratings_matrix = []\n",
    "with open(ratings_matrix_file) as f:\n",
    "    for line in f:\n",
    "        temp = line.strip().split(',')\n",
    "        ratings_matrix.append([int(temp[0]), int(temp[1]), float(temp[2])])\n",
    "\n",
    "ratings_matrix = np.array(ratings_matrix)\n",
    "books = ratings_matrix[:,0].astype(int)\n",
    "users = ratings_matrix[:,1].astype(int)\n",
    "ratings = ratings_matrix[:,2].astype(float)\n",
    "\n",
    "user_ratings = coo_matrix((ratings, (users, books)))\n",
    "print(type(user_ratings))"
   ]
  },
  {
   "cell_type": "code",
   "execution_count": 25,
   "metadata": {
    "ExecuteTime": {
     "end_time": "2019-11-11T13:52:11.639503Z",
     "start_time": "2019-11-11T13:52:06.383432Z"
    }
   },
   "outputs": [],
   "source": [
    "#model = NMF(n_components=12, random_state=333)\n",
    "#nmf = model.fit_transform(user_ratings)"
   ]
  },
  {
   "cell_type": "code",
   "execution_count": null,
   "metadata": {},
   "outputs": [],
   "source": [
    "# We'll use the famous SVD algorithm.\n",
    "algo = SVD(verbose=True)\n",
    "\n",
    "# you can also build KNNBasic and other types of models\n",
    "\n",
    "# Run 5-fold cross-validation and print results\n",
    "cross_validate(algo, user_ratings, measures=['RMSE', 'MAE'], cv=5, n_jobs=-1, verbose=True)\n",
    "\n",
    "# ml-100k dataset: this takes around .5 minute\n",
    "# jester dataset: this takes around 10 minutes"
   ]
  }
 ],
 "metadata": {
  "kernelspec": {
   "display_name": "Python [conda env:metis] *",
   "language": "python",
   "name": "conda-env-metis-py"
  },
  "language_info": {
   "codemirror_mode": {
    "name": "ipython",
    "version": 3
   },
   "file_extension": ".py",
   "mimetype": "text/x-python",
   "name": "python",
   "nbconvert_exporter": "python",
   "pygments_lexer": "ipython3",
   "version": "3.7.3"
  },
  "toc": {
   "base_numbering": 1,
   "nav_menu": {},
   "number_sections": true,
   "sideBar": true,
   "skip_h1_title": false,
   "title_cell": "Table of Contents",
   "title_sidebar": "Contents",
   "toc_cell": false,
   "toc_position": {},
   "toc_section_display": true,
   "toc_window_display": false
  }
 },
 "nbformat": 4,
 "nbformat_minor": 2
}
